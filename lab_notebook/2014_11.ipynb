{
 "metadata": {
  "name": "",
  "signature": "sha256:4fef11f23101c28c8bc53cd4fee4b26192856c6d0b075096b449ba32102d01f2"
 },
 "nbformat": 3,
 "nbformat_minor": 0,
 "worksheets": [
  {
   "cells": [
    {
     "cell_type": "markdown",
     "metadata": {},
     "source": [
      "11/05/2014\n",
      "===========\n",
      "\n",
      "Activity-Dependent mRNA Transport:\n",
      "---------------\n",
      "* **Question**: If we have a desired distribution of mRNA along a dendrite, how can we tune local trafficking rates to produce this goal?\n",
      "    * Answer: [in this notebook](http://nbviewer.ipython.org/github/ahwillia/notebooks/blob/master/code_pubs/2014_11_04/trafficking.ipynb)\n",
      "* **Related Question**: If we observe a particular distribution of mRNA along a dendrite, can we infer what the local trafficking rates are?\n",
      "    * Depends on whether the mRNA or protein distribution is at steady-state\n",
      "    * Can't we directly measure trafficking experimentally?\n",
      "    * Other problem \\(\\alpha\\) and \\(\\beta\\) rate constants could just go to zero to keep everything at steady-state\n",
      "* **Experimental Question**: Is the trafficking of *Arc* to the dendrites dependent on calcium? What happens if we use a calcium chelator? Is it mis-trafficked? What if we knockout CaMKII?\n",
      "\n",
      "Multi-compartment homeostatic models:\n",
      "---------------\n",
      "* The more I think about it, the more I like the idea of modeling activity-dependent homeostatic regulation in a cable of connected compartments.\n",
      "    * I can write all the code in julia very easily. Don't need to rely on NEURON.\n",
      "    * The results will probably extend. The branch points add some further complexity, but nothing too crazy\n",
      "* Things that that can be addressed in this simple model:\n",
      "    * Interactions between LTP and synaptic scaling\n",
      "    * How to homeostatically maintain back-propagating action potentials\n",
      "\n",
      "-----------------------\n"
     ]
    },
    {
     "cell_type": "code",
     "collapsed": false,
     "input": [],
     "language": "python",
     "metadata": {},
     "outputs": []
    }
   ],
   "metadata": {}
  }
 ]
}