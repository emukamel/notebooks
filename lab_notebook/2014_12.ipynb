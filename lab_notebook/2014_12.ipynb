{
 "metadata": {
  "name": "",
  "signature": "sha256:6109bd5a8a8207e42555f35152eba00f8c2fa8f0833679ce260c350b37b0f133"
 },
 "nbformat": 3,
 "nbformat_minor": 0,
 "worksheets": [
  {
   "cells": [
    {
     "cell_type": "markdown",
     "metadata": {},
     "source": [
      "12/08/2014\n",
      "===========\n",
      "\n",
      "* **New Project Idea**: *Sequential statistical analysis*\n",
      "    * James Wason wrote a nice and simple R package, 'OptGS', which searches for near-optimal group-sequential designs for randomised controlled trials with normally distributed outcomes.\n",
      "    * I'd be interested in extending this to consider the following possibilities:\n",
      "        * Multi-factorial designs (traditionally analyzed using ANOVA)\n",
      "        * Two-sided significance tests\n",
      "        * Non-parameteric tests\n",
      "        * Bayesian perspectives?\n",
      "    * Then I would like to make a simple web app, perhaps using [shiny](http://shiny.rstudio.com/).\n",
      "        * The goal would be to provide advice to biology researchers on sequential designs. Educate them of the problem of performing sequential tests without corrections, and provide an alternative.\n",
      "        * Also would be an opportunity to educate them of the importance of focusing on effect size over p-value.\n",
      "    * James recommended that I read Jennison and Turnbull's book on sequential analysis\n",
      "\n",
      "* **Modeling molecular transport in dendritic trees**\n",
      "    * [Previous work I presented at SfN](http://nbviewer.ipython.org/github/ahwillia/notebooks/blob/master/code_pubs/2014_11_04/trafficking.ipynb)\n",
      "    * [Michael Doyle and Michael Kiebler (2011)](dx.doi.org/10.1038/emboj.2011.278) proposed the \"Sushi Belt Model\" as a mechanism of dendritic transport. The above model can be extended to explore this possibility.\n",
      "    * How is it possible to get a gradient in channel expression during development (Jeff Magee's work)? Hand tuning parameters in either of the above two models is messy and not satisfying, because a generating a gradient in protein expression requires a gradient in trafficking properties (this only pushes the question back one step).\n",
      "        * The mass-action kinetics model I've been considering so far assume a memoryless system, which is not necessarily realistic.\n",
      "        * I wrote some code to show that roughly linear gradients can be created from supposing that the probability of protein release from the \"sushi belt\" increases over time. I will upload some simple code to illustrate this soon.\n",
      "\n",
      "-----------------------\n"
     ]
    },
    {
     "cell_type": "code",
     "collapsed": false,
     "input": [],
     "language": "python",
     "metadata": {},
     "outputs": []
    }
   ],
   "metadata": {}
  }
 ]
}