{
 "metadata": {
  "name": "",
  "signature": "sha256:051ea5261d2e4ba142a4a42b831b71846100d56163682b8e58efc7570153d9f0"
 },
 "nbformat": 3,
 "nbformat_minor": 0,
 "worksheets": [
  {
   "cells": [
    {
     "cell_type": "markdown",
     "metadata": {},
     "source": [
      "10/04/2014\n",
      "===========\n",
      "\n",
      "Began rotation with Brenda Bloodgood\n",
      "\n",
      "Activity-Dependent mRNA Transport:\n",
      "---------------\n",
      "* **Question**: If we have a desired distribution of mRNA along a dendrite, how can we tune local trafficking rates to produce this goal?\n",
      "* **Related Question**: If we observe a particular distribution of mRNA along a dendrite, can we infer what the local trafficking rates are?\n",
      "    * I derived rate constants that produce desired distribution of mRNA at steady-state in a cable. See SAGE code below.\n",
      "    * Linear control theory could provide a way to rapidly switch between desired distributions\n",
      "\n",
      "Making a new Opto-Array with two LED colors\n",
      "--------------------\n",
      "* **Goal #1**: Target two different neuron types (e.g. excitatory neurons with ReaCHR and PV cells with ChIEF)\n",
      "* **Goal #2**: Target soma vs dendrite simultaneously in the same cell type. See [Greenberg et al., 2011](http://www.ncbi.nlm.nih.gov/pubmed/21338881)\n",
      "* **Goal #3**: If ChIEF doesn't produce high fidelity spiking, we could instead simultaneously express both ChIEF and ReaCHR and alternate stimulation between blue light and red light.\n",
      "\n",
      "QuantNeuro Stuff\n",
      "----------------\n",
      "* Has been put on hold for the most part\n",
      "\n",
      "-----------------------\n"
     ]
    },
    {
     "cell_type": "code",
     "collapsed": false,
     "input": [
      "%% SAGE code for steady-state distribution of mRNA in a cable\n",
      "%%   --> l1,l2,etc. are diffusion coeffs to the left\n",
      "%%   --> r1,r2,etc. are diffusion coeffs to the right\n",
      "\n",
      "l1, l2, l3, l4, l5, l6, l7 = var('l1 l2 l3 l4 l5 l6 l7')\n",
      "r1, r2, r3, r4, r5, r6, r7 = var('r1 r2 r3 r4 r5 r6 r7')\n",
      "\n",
      "K = matrix([[-r1,     l1,      0,      0,      0,      0,      0,   0],\n",
      "            [r1 , -l1-r2,     l2,      0,      0,      0,      0,   0],\n",
      "            [  0,     r2, -l2-r3,     l3,      0,      0,      0,   0],\n",
      "            [  0,      0,     r3, -l3-r4,     l4,      0,      0,   0],\n",
      "            [  0,      0,      0,     r4, -l4-r5,     l5,      0,   0],\n",
      "            [  0,      0,      0,      0,     r5, -l5-r6,     l6,   0],\n",
      "            [  0,      0,      0,      0,      0,     r6, -l6-r7,  l7],\n",
      "            [  0,      0,      0,      0,      0,      0,     r7, -l7]])\n",
      "\n",
      "\n",
      "transpose(K).kernel().basis()  # This computes the nullspace\n",
      "[\n",
      "(1, r1/l1, r1*r2/(l1*l2), r1*r2*r3/(l1*l2*l3), r1*r2*r3*r4/(l1*l2*l3*l4), r1*r2*r3*r4*r5/(l1*l2*l3*l4*l5), r1*r2*r3*r4*r5*r6/(l1*l2*l3*l4*l5*l6), r1*r2*r3*r4*r5*r6*r7/(l1*l2*l3*l4*l5*l6*l7))\n",
      "]"
     ],
     "language": "python",
     "metadata": {},
     "outputs": []
    },
    {
     "cell_type": "markdown",
     "metadata": {},
     "source": [
      "10/13/2014\n",
      "===========\n",
      "\n",
      "General Notes:\n",
      "-------------\n",
      "* My \"notebooks\" repository is pretty disorganized\n",
      "* In an effort to rectify this situation, I have made a new directory \"code_pubs/\" which will host only very polished code. I've uploaded a notebook on modeling activity-dependent mRNA transport (see below).\n",
      "* I may just delete all other folders, other than the lab notebook from the notebooks repository. It doesn't help anyone to see my first-pass, disorganized code.\n",
      "\n",
      "Activity-Dependent mRNA Transport:\n",
      "---------------------------\n",
      "* Code now uploaded for \"passive diffusion\" of mRNA as well as \"activity-dependent aggregation\" of mRNA near excited synapses.\n",
      "* Updated PyNeuron Toolbox with several new options to make this work\n",
      "* Possibility of applying this to BDNF, Arc trafficking?\n",
      "* Possibility of modeling transport from synapses to soma vs. soma to synapses? \n",
      "\n",
      "QuantNeuro Stuff\n",
      "----------------\n",
      "* Now online at [http://quantneuro.com](http://quantneuro.com)\n",
      "\n",
      "-----------------------\n"
     ]
    },
    {
     "cell_type": "code",
     "collapsed": false,
     "input": [],
     "language": "python",
     "metadata": {},
     "outputs": []
    }
   ],
   "metadata": {}
  }
 ]
}