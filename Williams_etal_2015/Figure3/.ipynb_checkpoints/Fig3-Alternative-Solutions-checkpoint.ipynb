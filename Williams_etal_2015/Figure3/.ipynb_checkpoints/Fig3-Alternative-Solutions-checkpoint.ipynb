{
 "metadata": {
  "name": "",
  "signature": "sha256:a2ca3476c490e89a36e10341aec3c05977baedc305588414a1aa90d258797582"
 },
 "nbformat": 3,
 "nbformat_minor": 0,
 "worksheets": [
  {
   "cells": [
    {
     "cell_type": "code",
     "collapsed": false,
     "input": [
      "# Download NEURON: http://www.neuron.yale.edu/neuron/download\n",
      "# Download PyNeuronToolbox: https://github.com/ahwillia/PyNeuron-Toolbox\n",
      "\n",
      "from neuron import h\n",
      "import numpy as np\n",
      "import pylab as plt\n",
      "from PyNeuronToolbox.record import ez_record,ez_convert\n",
      "from PyNeuronToolbox.synapses import add_exp2\n",
      "import time\n",
      "%matplotlib inline\n",
      "np.random.seed(123456789)\n",
      "\n",
      "\n",
      "# Load morphology and other stuff\n",
      "# --> SegLists: soma[2], dend[74], dend_5[37], apic[42], axon[1]\n",
      "# --> Files from Migliore & Migliore (2012)\n",
      "# --> CA1 pyramidal neuron\n",
      "h.load_file('stdrun.hoc')\n",
      "h.xopen('ri06.hoc')\n",
      "h.xopen('fixnseg.hoc')\n",
      "h.xopen('5a_nogui.hoc')\n",
      "h.tstop = 700.0\n",
      "\n",
      "# Function to get a random segment within a region of the dendrite\n",
      "def randseg(region=None):\n",
      "    tmp = np.random.uniform(0,1)\n",
      "    if region is None:\n",
      "        region = np.random.choice(['apic','dend_5','dend'])\n",
      "    if region == 'apic':\n",
      "        comp = h.apic[int(np.random.uniform(22,30))]\n",
      "    elif region == 'dend_5':\n",
      "        comp = h.dend_5[int(np.random.uniform(22,28))]\n",
      "    elif region == 'dend':\n",
      "        comp = h.dend[int(np.random.uniform(60,70))]\n",
      "    return comp(tmp)\n",
      "\n",
      "# Add a bunch of synapses\n",
      "n_syn = 120\n",
      "syn_rate = 50.0  # Hz\n",
      "syndata = []\n",
      "for i in range(n_syn): \n",
      "    spktimes = np.random.uniform(1,h.tstop-1,int(syn_rate*h.tstop/1e3))\n",
      "    syndata.append(add_exp2(h,randseg(),spktimes,e=0,tau1=0.5,tau2=20,weight=0.001))"
     ],
     "language": "python",
     "metadata": {},
     "outputs": [],
     "prompt_number": 1
    },
    {
     "cell_type": "code",
     "collapsed": false,
     "input": [
      "(v,v_labels) = ez_record(h,order='pre')\n",
      "h.finitialize() # has to come after ez_record\n",
      "\n",
      "start_time = time.time()\n",
      "while h.t < h.tstop:\n",
      "    h.fadvance()\n",
      "elapsed_time = time.time() - start_time\n",
      "\n",
      "v = ez_convert(v)\n",
      "t = np.linspace(0,h.t,v.shape[0])\n",
      "v_avg = np.mean(v,axis=0)"
     ],
     "language": "python",
     "metadata": {},
     "outputs": [],
     "prompt_number": 2
    },
    {
     "cell_type": "code",
     "collapsed": false,
     "input": [
      "def sushi_system(a,b,c,d):\n",
      "    \"\"\"\n",
      "    Returns a matrix A, such that dx/dt = A*x\n",
      "    \n",
      "    N = # of compartments\n",
      "    A is (2N x N) matrix\n",
      "    x is (2N x 1) vector.\n",
      "      The first N elements correspond to concentrations of u (molecules in transit)\n",
      "      The second half correspond to concentrations of u-star (active molecules)\n",
      "    The trafficking rate constants along the microtubules are given by the vectors \"a\" and \"b\"\n",
      "    The rate constants for u turning into u* is given by the vector \"c\"\n",
      "    The rate constants for the degradation of u* is given by the vector \"d\"\n",
      "    \"\"\"\n",
      "    # number of compartments\n",
      "    N = len(d)\n",
      "    \n",
      "    ## State-space equations\n",
      "    #  dx/dt = Ax + Bu\n",
      "    A = np.zeros((2*N,2*N))\n",
      "\n",
      "    # Trafficking along belt\n",
      "    # Iterative traversal of dendritic tree in pre-order\n",
      "    i = 0\n",
      "    section = None\n",
      "    parentStack = [(None,h.soma[0])]\n",
      "    while len(parentStack)>0:\n",
      "        # Get next section to traverse\n",
      "        #  --> p is parent index, section is h.Section object\n",
      "        (p,section) = parentStack.pop()\n",
      "        \n",
      "        # Trafficking to/from parent\n",
      "        if p is not None:\n",
      "            # Out of parent, into child\n",
      "            ai = a.pop()\n",
      "            A[p,p] += -ai\n",
      "            A[i,p] += ai\n",
      "            # Into parent, out of child\n",
      "            bi = b.pop()\n",
      "            A[p,i] += bi\n",
      "            A[i,i] += -bi\n",
      "        \n",
      "        # visit all segments in compartment\n",
      "        for (j,seg) in enumerate(section):\n",
      "            # Deal with out/into rates within compartment, just tridiag matrix\n",
      "            if j>0:\n",
      "                # Out of parent, into child\n",
      "                ai = a.pop()\n",
      "                A[i-1,i-1] += -ai\n",
      "                A[i,i-1] += ai\n",
      "                # Into parent, out of child\n",
      "                bi = b.pop()\n",
      "                A[i-1,i] += bi\n",
      "                A[i,i] += -bi\n",
      "            # move onto next compartment\n",
      "            i += 1\n",
      "        \n",
      "        # now visit children in pre-order\n",
      "        child_list = list(h.SectionRef(sec=section).child)\n",
      "        if child_list is not None:\n",
      "            child_list.reverse()\n",
      "        for c_sec in child_list:\n",
      "            parentStack.append([i-1,c_sec]) # append parent index and child\n",
      "    \n",
      "    # Trafficking off the belt\n",
      "    for i in range(N):\n",
      "        A[i,i] += -c[i]\n",
      "        A[i+N,i] += c[i]\n",
      "\n",
      "    # Degradation after being taken off the belt\n",
      "    for i in range(N):\n",
      "        A[i+N,i+N] = -d[i]\n",
      "    \n",
      "    return A"
     ],
     "language": "python",
     "metadata": {},
     "outputs": [],
     "prompt_number": 3
    },
    {
     "cell_type": "code",
     "collapsed": false,
     "input": [
      "n = len(v_avg)\n",
      "\n",
      "def trafficking_solution(utarg):\n",
      "    \"\"\" Solve the problem by tuning trafficking rates, like Figs 1 and 2. \"\"\"\n",
      "    x = []\n",
      "    \n",
      "    # Iterative traversal of dendritic tree in pre-order\n",
      "    i = 0\n",
      "    section = None\n",
      "    parentStack = [(None,h.soma[0])]\n",
      "    while len(parentStack)>0:\n",
      "        # Get next section to traverse\n",
      "        #  --> p is parent index, section is h.Section object\n",
      "        (p,section) = parentStack.pop()\n",
      "        \n",
      "        # Trafficking to/from parent\n",
      "        if p is not None:\n",
      "            mp = utarg[p] # concentration in parent\n",
      "            mc = utarg[i] # concentration in child\n",
      "            x.insert(0,mp/mc)\n",
      "        \n",
      "        # visit all segments in compartment\n",
      "        for (j,seg) in enumerate(section):\n",
      "            # Deal with out/into rates within compartment, just tridiag matrix\n",
      "            if j>0:\n",
      "                mp = utarg[i-1]\n",
      "                mc = utarg[i]\n",
      "                x.insert(0,mp/mc)\n",
      "                \n",
      "            # move onto next compartment\n",
      "            i += 1\n",
      "        \n",
      "        # now visit children in pre-order\n",
      "        child_list = list(h.SectionRef(sec=section).child)\n",
      "        if child_list is not None:\n",
      "            child_list.reverse()\n",
      "        for c_sec in child_list:\n",
      "            parentStack.append([i-1,c_sec]) # append parent index and child\n",
      "    \n",
      "    # return calculated guesses (flip, up/down since get_deriv pops from start)\n",
      "    return np.array(x)\n",
      "\n",
      "def get_sys_matrix(x):\n",
      "    a = list(x[:(n-1)])\n",
      "    b = list(x[(n-1):2*(n-1)])\n",
      "    c = x[2*(n-1):]\n",
      "    d = np.zeros(n)\n",
      "    A = sushi_system(a,b,c,d)\n",
      "    return A"
     ],
     "language": "python",
     "metadata": {},
     "outputs": [],
     "prompt_number": 6
    },
    {
     "cell_type": "code",
     "collapsed": false,
     "input": [
      "# Target spatial distribution:\n",
      "utarg = (v_avg-np.min(v_avg))/(np.max(v_avg)-np.min(v_avg))*0.9 + 0.1\n",
      "print len(utarg)\n",
      "A = get_sys_matrix(np.random.uniform(1,2,3*n-2))"
     ],
     "language": "python",
     "metadata": {},
     "outputs": [
      {
       "output_type": "stream",
       "stream": "stdout",
       "text": [
        "742\n"
       ]
      }
     ],
     "prompt_number": 7
    },
    {
     "cell_type": "code",
     "collapsed": false,
     "input": [
      "from scipy.linalg import eig"
     ],
     "language": "python",
     "metadata": {},
     "outputs": [],
     "prompt_number": 8
    },
    {
     "cell_type": "code",
     "collapsed": false,
     "input": [
      "w,v = eig(A)"
     ],
     "language": "python",
     "metadata": {},
     "outputs": [],
     "prompt_number": 9
    },
    {
     "cell_type": "code",
     "collapsed": false,
     "input": [
      "ws = np.sort(abs(w))"
     ],
     "language": "python",
     "metadata": {},
     "outputs": [],
     "prompt_number": 16
    },
    {
     "cell_type": "code",
     "collapsed": false,
     "input": [
      "ws[0]"
     ],
     "language": "python",
     "metadata": {},
     "outputs": [
      {
       "metadata": {},
       "output_type": "pyout",
       "prompt_number": 17,
       "text": [
        "0.0"
       ]
      }
     ],
     "prompt_number": 17
    },
    {
     "cell_type": "code",
     "collapsed": false,
     "input": [
      "ws[1]"
     ],
     "language": "python",
     "metadata": {},
     "outputs": [
      {
       "metadata": {},
       "output_type": "pyout",
       "prompt_number": 18,
       "text": [
        "0.0"
       ]
      }
     ],
     "prompt_number": 18
    },
    {
     "cell_type": "code",
     "collapsed": false,
     "input": [
      "ws"
     ],
     "language": "python",
     "metadata": {},
     "outputs": [
      {
       "metadata": {},
       "output_type": "pyout",
       "prompt_number": 19,
       "text": [
        "array([  0.        ,   0.        ,   0.        , ...,   9.78374273,\n",
        "         9.99634759,  13.84348526])"
       ]
      }
     ],
     "prompt_number": 19
    },
    {
     "cell_type": "code",
     "collapsed": false,
     "input": [],
     "language": "python",
     "metadata": {},
     "outputs": []
    }
   ],
   "metadata": {}
  }
 ]
}