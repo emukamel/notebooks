{
 "cells": [
  {
   "cell_type": "markdown",
   "metadata": {},
   "source": [
    "Tutorial: https://courses.csail.mit.edu/6.867/wiki/images/a/a7/Qp-cvxopt.pdf"
   ]
  },
  {
   "cell_type": "code",
   "execution_count": 1,
   "metadata": {
    "collapsed": false
   },
   "outputs": [],
   "source": [
    "import numpy as np\n",
    "from cvxopt import matrix\n",
    "\n",
    "P = matrix([[0.0064,  0.0008, -0.0011, 0.0],\n",
    "            [0.0008,  0.0025,     0.0, 0.0],\n",
    "            [-0.0011,    0.0,  0.0004, 0.0],\n",
    "            [    0.0,    0.0,     0.0, 0.0]],tc='d')\n",
    "\n",
    "q = matrix([-0.12,-0.10,-0.07,-0.03],tc='d')\n",
    "\n",
    "G = matrix([[1,  0,  0, 0],\n",
    "            [0,  1,  0, 0],\n",
    "            [0,  0,  1, 0],\n",
    "            [0,  0,  0, 1]],tc='d')\n",
    "h = matrix([0,0,0,0],tc='d')\n",
    "\n",
    "A = matrix([1,1,1,1],tc='d').T\n",
    "b = matrix([1],tc='d')"
   ]
  },
  {
   "cell_type": "code",
   "execution_count": 2,
   "metadata": {
    "collapsed": false
   },
   "outputs": [
    {
     "name": "stdout",
     "output_type": "stream",
     "text": [
      "[ 1.00e+00  1.00e+00  1.00e+00  1.00e+00]\n",
      "\n"
     ]
    }
   ],
   "source": [
    "print A"
   ]
  },
  {
   "cell_type": "code",
   "execution_count": 3,
   "metadata": {
    "collapsed": false
   },
   "outputs": [
    {
     "name": "stdout",
     "output_type": "stream",
     "text": [
      "     pcost       dcost       gap    pres   dres\n",
      " 0: -8.4152e-02  1.7027e-01  1e+00  3e+00  8e-17\n",
      " 1: -7.7105e-02  2.7242e-01  6e-02  6e-01  1e-16\n",
      " 2: -8.0278e-02  2.2185e+00  9e-02  5e-01  1e-15\n",
      " 3: -8.0107e-02  4.1918e+01  6e-01  5e-01  3e-14\n",
      " 4: -7.9781e-02  2.8005e+03  4e+00  5e-01  1e-12\n",
      " 5: -7.9730e-02  1.8144e+06  7e+01  5e-01  8e-10\n",
      " 6: -7.9728e-02  4.3981e+10  2e+04  5e-01  2e-05\n",
      " 7: -7.9728e-02  9.6654e+16  4e+08  5e-01  3e+01\n",
      " 8: -7.9728e-02  2.1235e+25  1e+15  5e-01  1e+10\n",
      " 9: -7.9728e-02  4.4170e+35  1e+24  5e-01  7e+19\n",
      "10: -7.9728e-02  1.5485e+47  4e+33  5e-01  5e+31\n",
      "11: -7.9728e-02  3.4118e+60  4e+46  5e-01  1e+45\n",
      "12: -7.9728e-02  3.1544e+73  3e+59  5e-01  6e+57\n",
      "13: -7.9728e-02  3.2583e+87  1e+72  5e-01  4e+71\n",
      "14: -7.9728e-02  5.6924e+102  6e+86  5e-01  1e+87\n",
      "15: -7.9728e-02  3.5518e+117  3e+101  5e-01 1e+102\n",
      "16: -7.9728e-02  1.7264e+130  1e+114  5e-01 6e+114\n",
      "17: -7.9728e-02  2.6468e+145  1e+129  5e-01 1e+130\n",
      "18: -7.9728e-02  1.0003e+159  6e+142  5e-01 5e+143\n",
      "19: -7.9728e-02  7.8893e+174  3e+158  5e-01    inf\n",
      "20: -7.9728e-02  2.5322e+189  1e+173  5e-01    inf\n",
      "21: -7.9728e-02  8.4330e+204  5e+188  5e-01    inf\n",
      "22: -7.9728e-02  6.9091e+218  4e+202  5e-01    inf\n",
      "23: -7.9728e-02  4.5390e+230  3e+214  5e-01    inf\n",
      "24: -7.9728e-02  4.3131e+245  2e+229  5e-01    inf\n",
      "25: -7.9728e-02  7.2397e+258  3e+242  5e-01    inf\n",
      "26: -7.9728e-02  2.8352e+274  1e+258  5e-01    inf\n",
      "27:  9.3339e-01  1.2735e+307  1e+308  1e+01    inf\n"
     ]
    },
    {
     "ename": "ValueError",
     "evalue": "domain error",
     "output_type": "error",
     "traceback": [
      "\u001b[1;31m---------------------------------------------------------------------------\u001b[0m",
      "\u001b[1;31mValueError\u001b[0m                                Traceback (most recent call last)",
      "\u001b[1;32m<ipython-input-3-7d370fdd51b6>\u001b[0m in \u001b[0;36m<module>\u001b[1;34m()\u001b[0m\n\u001b[0;32m      1\u001b[0m \u001b[1;32mfrom\u001b[0m \u001b[0mcvxopt\u001b[0m \u001b[1;32mimport\u001b[0m \u001b[0msolvers\u001b[0m\u001b[1;33m\u001b[0m\u001b[0m\n\u001b[0;32m      2\u001b[0m \u001b[1;33m\u001b[0m\u001b[0m\n\u001b[1;32m----> 3\u001b[1;33m \u001b[0msol\u001b[0m \u001b[1;33m=\u001b[0m \u001b[0msolvers\u001b[0m\u001b[1;33m.\u001b[0m\u001b[0mqp\u001b[0m\u001b[1;33m(\u001b[0m\u001b[0mP\u001b[0m\u001b[1;33m,\u001b[0m\u001b[0mq\u001b[0m\u001b[1;33m,\u001b[0m\u001b[0mG\u001b[0m\u001b[1;33m,\u001b[0m\u001b[0mh\u001b[0m\u001b[1;33m,\u001b[0m\u001b[0mA\u001b[0m\u001b[1;33m,\u001b[0m\u001b[0mb\u001b[0m\u001b[1;33m)\u001b[0m\u001b[1;33m\u001b[0m\u001b[0m\n\u001b[0m",
      "\u001b[1;32m/home/alex/anaconda/lib/python2.7/site-packages/cvxopt/coneprog.pyc\u001b[0m in \u001b[0;36mqp\u001b[1;34m(P, q, G, h, A, b, solver, initvals)\u001b[0m\n\u001b[0;32m   4483\u001b[0m             'residual as dual infeasibility certificate': dinfres} \n\u001b[0;32m   4484\u001b[0m \u001b[1;33m\u001b[0m\u001b[0m\n\u001b[1;32m-> 4485\u001b[1;33m     \u001b[1;32mreturn\u001b[0m \u001b[0mconeqp\u001b[0m\u001b[1;33m(\u001b[0m\u001b[0mP\u001b[0m\u001b[1;33m,\u001b[0m \u001b[0mq\u001b[0m\u001b[1;33m,\u001b[0m \u001b[0mG\u001b[0m\u001b[1;33m,\u001b[0m \u001b[0mh\u001b[0m\u001b[1;33m,\u001b[0m \u001b[0mNone\u001b[0m\u001b[1;33m,\u001b[0m \u001b[0mA\u001b[0m\u001b[1;33m,\u001b[0m  \u001b[0mb\u001b[0m\u001b[1;33m,\u001b[0m \u001b[0minitvals\u001b[0m\u001b[1;33m)\u001b[0m\u001b[1;33m\u001b[0m\u001b[0m\n\u001b[0m",
      "\u001b[1;32m/home/alex/anaconda/lib/python2.7/site-packages/cvxopt/coneprog.pyc\u001b[0m in \u001b[0;36mconeqp\u001b[1;34m(P, q, G, h, dims, A, b, initvals, kktsolver, xnewcopy, xdot, xaxpy, xscal, ynewcopy, ydot, yaxpy, yscal)\u001b[0m\n\u001b[0;32m   2519\u001b[0m \u001b[1;33m\u001b[0m\u001b[0m\n\u001b[0;32m   2520\u001b[0m         \u001b[1;31m# Update lambda and scaling.\u001b[0m\u001b[1;33m\u001b[0m\u001b[1;33m\u001b[0m\u001b[0m\n\u001b[1;32m-> 2521\u001b[1;33m         \u001b[0mmisc\u001b[0m\u001b[1;33m.\u001b[0m\u001b[0mupdate_scaling\u001b[0m\u001b[1;33m(\u001b[0m\u001b[0mW\u001b[0m\u001b[1;33m,\u001b[0m \u001b[0mlmbda\u001b[0m\u001b[1;33m,\u001b[0m \u001b[0mds\u001b[0m\u001b[1;33m,\u001b[0m \u001b[0mdz\u001b[0m\u001b[1;33m)\u001b[0m\u001b[1;33m\u001b[0m\u001b[0m\n\u001b[0m\u001b[0;32m   2522\u001b[0m \u001b[1;33m\u001b[0m\u001b[0m\n\u001b[0;32m   2523\u001b[0m \u001b[1;33m\u001b[0m\u001b[0m\n",
      "\u001b[1;32m/home/alex/anaconda/lib/python2.7/site-packages/cvxopt/misc.pyc\u001b[0m in \u001b[0;36mupdate_scaling\u001b[1;34m(W, lmbda, s, z)\u001b[0m\n\u001b[0;32m    448\u001b[0m     \u001b[0mml\u001b[0m \u001b[1;33m=\u001b[0m \u001b[0mlen\u001b[0m\u001b[1;33m(\u001b[0m\u001b[0mW\u001b[0m\u001b[1;33m[\u001b[0m\u001b[1;34m'd'\u001b[0m\u001b[1;33m]\u001b[0m\u001b[1;33m)\u001b[0m\u001b[1;33m\u001b[0m\u001b[0m\n\u001b[0;32m    449\u001b[0m     \u001b[0mm\u001b[0m \u001b[1;33m=\u001b[0m \u001b[0mmnl\u001b[0m \u001b[1;33m+\u001b[0m \u001b[0mml\u001b[0m\u001b[1;33m\u001b[0m\u001b[0m\n\u001b[1;32m--> 450\u001b[1;33m     \u001b[0ms\u001b[0m\u001b[1;33m[\u001b[0m\u001b[1;33m:\u001b[0m\u001b[0mm\u001b[0m\u001b[1;33m]\u001b[0m \u001b[1;33m=\u001b[0m \u001b[0mbase\u001b[0m\u001b[1;33m.\u001b[0m\u001b[0msqrt\u001b[0m\u001b[1;33m(\u001b[0m \u001b[0ms\u001b[0m\u001b[1;33m[\u001b[0m\u001b[1;33m:\u001b[0m\u001b[0mm\u001b[0m\u001b[1;33m]\u001b[0m \u001b[1;33m)\u001b[0m\u001b[1;33m\u001b[0m\u001b[0m\n\u001b[0m\u001b[0;32m    451\u001b[0m     \u001b[0mz\u001b[0m\u001b[1;33m[\u001b[0m\u001b[1;33m:\u001b[0m\u001b[0mm\u001b[0m\u001b[1;33m]\u001b[0m \u001b[1;33m=\u001b[0m \u001b[0mbase\u001b[0m\u001b[1;33m.\u001b[0m\u001b[0msqrt\u001b[0m\u001b[1;33m(\u001b[0m \u001b[0mz\u001b[0m\u001b[1;33m[\u001b[0m\u001b[1;33m:\u001b[0m\u001b[0mm\u001b[0m\u001b[1;33m]\u001b[0m \u001b[1;33m)\u001b[0m\u001b[1;33m\u001b[0m\u001b[0m\n\u001b[0;32m    452\u001b[0m \u001b[1;33m\u001b[0m\u001b[0m\n",
      "\u001b[1;31mValueError\u001b[0m: domain error"
     ]
    }
   ],
   "source": [
    "from cvxopt import solvers\n",
    "\n",
    "sol = solvers.qp(P,q,G,h,A,b)"
   ]
  },
  {
   "cell_type": "code",
   "execution_count": 4,
   "metadata": {
    "collapsed": false
   },
   "outputs": [
    {
     "data": {
      "text/plain": [
       "{'dual infeasibility': 4.318774907015183e-17,\n",
       " 'dual objective': -22.625012490894495,\n",
       " 'dual slack': 1.1823034730347304e-06,\n",
       " 'gap': 1.7866380735781174e-05,\n",
       " 'iterations': 3,\n",
       " 'primal infeasibility': 9.06493303673679e-17,\n",
       " 'primal objective': -22.624994624513757,\n",
       " 'primal slack': 7.783824700687446e-08,\n",
       " 'relative gap': 7.896744742835557e-07,\n",
       " 's': <6x1 matrix, tc='d'>,\n",
       " 'status': 'optimal',\n",
       " 'x': <3x1 matrix, tc='d'>,\n",
       " 'y': <0x1 matrix, tc='d'>,\n",
       " 'z': <6x1 matrix, tc='d'>}"
      ]
     },
     "execution_count": 4,
     "metadata": {},
     "output_type": "execute_result"
    }
   ],
   "source": [
    "sol"
   ]
  },
  {
   "cell_type": "code",
   "execution_count": 5,
   "metadata": {
    "collapsed": false
   },
   "outputs": [
    {
     "name": "stdout",
     "output_type": "stream",
     "text": [
      "[[ 0.99999478]\n",
      " [ 0.50000345]\n",
      " [-0.99999992]]\n"
     ]
    }
   ],
   "source": [
    "print np.array(sol['x'])"
   ]
  },
  {
   "cell_type": "code",
   "execution_count": 6,
   "metadata": {
    "collapsed": false
   },
   "outputs": [
    {
     "data": {
      "text/plain": [
       "<3x6 matrix, tc='d'>"
      ]
     },
     "execution_count": 6,
     "metadata": {},
     "output_type": "execute_result"
    }
   ],
   "source": [
    "G.T"
   ]
  },
  {
   "cell_type": "code",
   "execution_count": 7,
   "metadata": {
    "collapsed": false
   },
   "outputs": [
    {
     "data": {
      "text/plain": [
       "array([[-2.00005502]])"
      ]
     },
     "execution_count": 7,
     "metadata": {},
     "output_type": "execute_result"
    }
   ],
   "source": [
    "np.dot(sol['x'].T,np.dot(P,sol['x'])) + np.dot(q.T,sol['x']) + 1"
   ]
  },
  {
   "cell_type": "code",
   "execution_count": 8,
   "metadata": {
    "collapsed": false
   },
   "outputs": [
    {
     "data": {
      "text/plain": [
       "array([ 9.29284849])"
      ]
     },
     "execution_count": 8,
     "metadata": {},
     "output_type": "execute_result"
    }
   ],
   "source": [
    "y = np.array([1,-0.2059698901171804,1])\n",
    "np.dot(y.T,np.dot(np.array(P),y)) + np.dot(np.array(q).T,y) + 1"
   ]
  },
  {
   "cell_type": "code",
   "execution_count": 9,
   "metadata": {
    "collapsed": false
   },
   "outputs": [
    {
     "name": "stdout",
     "output_type": "stream",
     "text": [
      "[ 1.00e+00]\n",
      "[ 5.00e-01]\n",
      "[-1.00e+00]\n",
      "\n"
     ]
    }
   ],
   "source": [
    "print sol['x']"
   ]
  }
 ],
 "metadata": {
  "kernelspec": {
   "display_name": "Python 2",
   "language": "python",
   "name": "python2"
  },
  "language_info": {
   "codemirror_mode": {
    "name": "ipython",
    "version": 2
   },
   "file_extension": ".py",
   "mimetype": "text/x-python",
   "name": "python",
   "nbconvert_exporter": "python",
   "pygments_lexer": "ipython2",
   "version": "2.7.9"
  }
 },
 "nbformat": 4,
 "nbformat_minor": 0
}
