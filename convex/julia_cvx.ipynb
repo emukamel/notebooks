{
 "cells": [
  {
   "cell_type": "code",
   "execution_count": 1,
   "metadata": {
    "collapsed": false
   },
   "outputs": [
    {
     "name": "stdout",
     "output_type": "stream",
     "text": [
      "Optimal\n",
      "-21.62499607456673\n",
      "----------------------------------------------------------------------------\n",
      "\tSCS v1.0.7 - Splitting Conic Solver\n",
      "\t(c) Brendan O'Donoghue, Stanford University, 2012\n",
      "----------------------------------------------------------------------------\n",
      "Lin-sys: sparse-direct, nnz in A = 24\n",
      "eps = 1.00e-04, alpha = 1.80, max_iters = 20000, normalize = 1, scale = 5.00\n",
      "Variables n = 6, constraints m = 15\n",
      "Cones:\tprimal zero / dual free vars: 1\n",
      "\tlinear vars: 7\n",
      "\tsoc vars: 7, soc blks: 2\n",
      "Setup time: 7.82e-05s\n",
      "----------------------------------------------------------------------------\n",
      " Iter | pri res | dua res | rel gap | pri obj | dua obj | kap/tau | time (s)\n",
      "----------------------------------------------------------------------------\n",
      "     0|      inf       inf      -nan      -inf       inf       inf  1.80e-05 \n",
      "   100| 1.43e-02  6.91e-01  2.10e-01 -1.14e+01 -7.30e+00  0.00e+00  6.66e-05 \n",
      "   200| 1.02e-02  7.73e-01  8.89e-02 -1.73e+01 -1.44e+01  0.00e+00  1.13e-04 \n",
      "   300| 5.24e-03  5.59e-01  3.59e-02 -2.01e+01 -1.86e+01  0.00e+00  1.60e-04 \n",
      "   400| 3.15e-03  3.66e-01  1.97e-02 -2.11e+01 -2.03e+01  2.97e-15  2.17e-04 \n",
      "   500| 1.80e-03  2.19e-01  1.08e-02 -2.15e+01 -2.11e+01  0.00e+00  2.73e-04 \n",
      "   600| 3.68e-04  4.76e-02  2.02e-03 -2.16e+01 -2.15e+01  0.00e+00  3.19e-04 \n",
      "   700| 6.65e-05  8.72e-03  3.73e-04 -2.16e+01 -2.16e+01  0.00e+00  3.66e-04 \n",
      "   800| 1.29e-05  1.70e-03  7.24e-05 -2.16e+01 -2.16e+01  0.00e+00  4.12e-04 \n",
      "   900| 2.52e-06  3.31e-04  1.41e-05 -2.16e+01 -2.16e+01  0.00e+00  4.58e-04 \n",
      "   980| 6.81e-07  8.96e-05  3.82e-06 -2.16e+01 -2.16e+01  0.00e+00  4.96e-04 \n",
      "----------------------------------------------------------------------------\n",
      "Status: Solved\n",
      "Timing: Total solve time: 4.98e-04s\n",
      "\tLin-sys: nnz in L factor: 51, avg solve time: 1.87e-07s\n",
      "\tCones: avg projection time: 5.93e-08s\n",
      "----------------------------------------------------------------------------\n",
      "Error metrics:\n",
      "|Ax + s - b|_2 / (1 + |b|_2) = 6.8111e-07\n",
      "|A'y + c|_2 / (1 + |c|_2) = 8.9601e-05\n",
      "|c'x + b'y| / (1 + |c'x| + |b'y|) = 3.8240e-06\n",
      "dist(s, K) = 0, dist(y, K*) = 0, s'y = 0\n",
      "----------------------------------------------------------------------------\n",
      "c'x = -21.6250, -b'y = -21.6248\n",
      "============================================================================\n"
     ]
    }
   ],
   "source": [
    "using Convex\n",
    "using SCS\n",
    "\n",
    "P = [13 12 -2;\n",
    "     12 17 6.;\n",
    "     -2 6. 12]\n",
    "\n",
    "q = [-22;-14.5;13]\n",
    "\n",
    "x = Variable(3)\n",
    "\n",
    "p = minimize(0.5*quad_form(x,P) + q'*x + 1.0)\n",
    "# This works: p = minimize(q'*x + 1.0)\n",
    "p.constraints += [x <= 1; x >= -1]\n",
    "solve!(p)\n",
    "\n",
    "# Check the status of the problem\n",
    "println(p.status) # :Optimal, :Infeasible, :Unbounded etc.\n",
    "\n",
    "# Get the optimal value\n",
    "println(p.optval)"
   ]
  },
  {
   "cell_type": "code",
   "execution_count": 2,
   "metadata": {
    "collapsed": false
   },
   "outputs": [
    {
     "name": "stdout",
     "output_type": "stream",
     "text": [
      "[1.000000205473084\n",
      " 0.49996557132202335\n",
      " -1.0000002257016205]\n"
     ]
    }
   ],
   "source": [
    "println(x.value)"
   ]
  },
  {
   "cell_type": "code",
   "execution_count": 3,
   "metadata": {
    "collapsed": false
   },
   "outputs": [
    {
     "data": {
      "text/plain": [
       "3x1 Array{Float64,2}:\n",
       "  1.0     \n",
       "  0.499966\n",
       " -1.0     "
      ]
     },
     "execution_count": 3,
     "metadata": {},
     "output_type": "execute_result"
    }
   ],
   "source": [
    "y = x.value"
   ]
  }
 ],
 "metadata": {
  "kernelspec": {
   "display_name": "Julia 0.3.8",
   "language": "julia",
   "name": "julia-0.3"
  },
  "language_info": {
   "name": "julia",
   "version": "0.3.8"
  }
 },
 "nbformat": 4,
 "nbformat_minor": 0
}
