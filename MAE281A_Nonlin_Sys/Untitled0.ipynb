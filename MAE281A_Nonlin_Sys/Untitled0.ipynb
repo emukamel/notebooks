{
 "metadata": {
  "name": "",
  "signature": "sha256:6b6827a7c63fe575c9beb48906263bf21931b38f240766a03becf736012bce6e"
 },
 "nbformat": 3,
 "nbformat_minor": 0,
 "worksheets": [
  {
   "cells": [
    {
     "cell_type": "code",
     "collapsed": false,
     "input": [
      "from scipy.linalg import eig\n",
      "import numpy as np\n",
      "\n",
      "A = np.matrix([[0,1],[-1,0]])\n",
      "w,v = eig(A)\n",
      "\n",
      "print w\n",
      "print v"
     ],
     "language": "python",
     "metadata": {},
     "outputs": [
      {
       "output_type": "stream",
       "stream": "stdout",
       "text": [
        "[ 0.+1.j  0.-1.j]\n",
        "[[ 0.70710678+0.j          0.70710678-0.j        ]\n",
        " [ 0.00000000+0.70710678j  0.00000000-0.70710678j]]\n"
       ]
      }
     ],
     "prompt_number": 1
    },
    {
     "cell_type": "code",
     "collapsed": false,
     "input": [],
     "language": "python",
     "metadata": {},
     "outputs": []
    }
   ],
   "metadata": {}
  }
 ]
}