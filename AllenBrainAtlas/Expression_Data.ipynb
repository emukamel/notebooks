{
 "metadata": {
  "name": "",
  "signature": "sha256:c77ba8bbd48abf2dd31f1b33db0825f273cee8d8bb5efef2b4f5e21aafcf67ce"
 },
 "nbformat": 3,
 "nbformat_minor": 0,
 "worksheets": [
  {
   "cells": [
    {
     "cell_type": "markdown",
     "metadata": {},
     "source": [
      "**Allen Brain Atlas API documentation:** http://help.brain-map.org/display/api/Downloading+3-D+Expression+Grid+Data\n"
     ]
    },
    {
     "cell_type": "code",
     "collapsed": false,
     "input": [
      "import zipfile\n",
      "from StringIO import StringIO\n",
      "import urllib\n",
      "from struct import unpack\n",
      "\n",
      "pagedUrl = 'http://api.brain-map.org/grid_data/download/69816930?include=intensity,density'\n",
      "myzipfile = zipfile.ZipFile(StringIO(urllib.urlopen(pagedUrl).read()))\n",
      "\n",
      "for name in myzipfile.namelist():\n",
      "    print name"
     ],
     "language": "python",
     "metadata": {},
     "outputs": [
      {
       "output_type": "stream",
       "stream": "stdout",
       "text": [
        "data_set.xml\n",
        "intensity.mhd\n",
        "intensity.raw\n",
        "density.mhd\n",
        "density.raw\n"
       ]
      }
     ],
     "prompt_number": 1
    },
    {
     "cell_type": "code",
     "collapsed": false,
     "input": [
      "with myzipfile.open('intensity.raw','r') as f:\n",
      "    for line in f:\n",
      "        \n",
      "        intensity = f.readlines()"
     ],
     "language": "python",
     "metadata": {},
     "outputs": []
    }
   ],
   "metadata": {}
  }
 ]
}