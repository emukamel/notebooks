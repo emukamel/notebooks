{
 "metadata": {
  "name": "",
  "signature": "sha256:f06a5a05fc0cbf3794b5a809120c1c5e32deb899d1578b76a288923e311213ad"
 },
 "nbformat": 3,
 "nbformat_minor": 0,
 "worksheets": [
  {
   "cells": [
    {
     "cell_type": "markdown",
     "metadata": {},
     "source": [
      "**Instructions for Downloading Images:** http://help.brain-map.org/display/api/Downloading+an+Image"
     ]
    },
    {
     "cell_type": "code",
     "collapsed": false,
     "input": [
      "from IPython.display import Image\n",
      "Image(url=('http://www.brain-map.org/aba/api/'\n",
      "           'image?zoom=5&top=0&left=0&width=6000&height=5000'\n",
      "           '&mime=2&path=/external/aibssan/production7/Hras1_b04-0116_15861/'\n",
      "           'zoomify/primary/0100042475/Hras1_10_0100042475_B.aff'))"
     ],
     "language": "python",
     "metadata": {},
     "outputs": [
      {
       "html": [
        "<img src=\"http://www.brain-map.org/aba/api/image?zoom=5&top=0&left=0&width=6000&height=5000&mime=2&path=/external/aibssan/production7/Hras1_b04-0116_15861/zoomify/primary/0100042475/Hras1_10_0100042475_B.aff\"/>"
       ],
       "metadata": {},
       "output_type": "pyout",
       "prompt_number": 2,
       "text": [
        "<IPython.core.display.Image at 0x7f2c38588350>"
       ]
      }
     ],
     "prompt_number": 2
    },
    {
     "cell_type": "code",
     "collapsed": false,
     "input": [
      "from IPython.display import Image\n",
      "Image(url=('http://api.brain-map.org/api/v2/section_image_download/0100042475'\n",
      "           '?left=0&top=0&width=6000&height=5000?downsample=4.jpg'))"
     ],
     "language": "python",
     "metadata": {},
     "outputs": [
      {
       "html": [
        "<img src=\"http://api.brain-map.org/api/v2/section_image_download/0100042475?left=0&top=0&width=6000&height=5000?downsample=4.jpg\"/>"
       ],
       "metadata": {},
       "output_type": "pyout",
       "prompt_number": 8,
       "text": [
        "<IPython.core.display.Image at 0x7f2c385a8550>"
       ]
      }
     ],
     "prompt_number": 8
    }
   ],
   "metadata": {}
  }
 ]
}