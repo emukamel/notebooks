{
 "metadata": {
  "name": "",
  "signature": "sha256:46a254fbd85bd8380eea34d714ee954d0f2be354fe528df87e3bb78cefed7348"
 },
 "nbformat": 3,
 "nbformat_minor": 0,
 "worksheets": [
  {
   "cells": [
    {
     "cell_type": "markdown",
     "metadata": {},
     "source": [
      "**Instructions for Downloading Images:** http://help.brain-map.org/display/api/Downloading+an+Image"
     ]
    },
    {
     "cell_type": "code",
     "collapsed": false,
     "input": [
      "from IPython.display import Image\n",
      "Image(url='http://api.brain-map.org/api/v2/section_image_download/69750516?downsample=4.jpg')"
     ],
     "language": "python",
     "metadata": {},
     "outputs": [
      {
       "html": [
        "<img src=\"http://api.brain-map.org/api/v2/section_image_download/69750516?downsample=4.jpg\"/>"
       ],
       "metadata": {},
       "output_type": "pyout",
       "prompt_number": 1,
       "text": [
        "<IPython.core.display.Image at 0x7fb389597e10>"
       ]
      }
     ],
     "prompt_number": 1
    },
    {
     "cell_type": "code",
     "collapsed": false,
     "input": [
      "Image(url='http://api.brain-map.org/api/v2/atlas_image_download/100883869?downsample=4&annotation=true')"
     ],
     "language": "python",
     "metadata": {},
     "outputs": [
      {
       "html": [
        "<img src=\"http://api.brain-map.org/api/v2/atlas_image_download/100883869?downsample=4&annotation=true\"/>"
       ],
       "metadata": {},
       "output_type": "pyout",
       "prompt_number": 2,
       "text": [
        "<IPython.core.display.Image at 0x7fb3895975d0>"
       ]
      }
     ],
     "prompt_number": 2
    },
    {
     "cell_type": "code",
     "collapsed": false,
     "input": [
      "Image(url='http://api.brain-map.org/api/v2/section_image_download/102146167?range=0,923,0,987,0,4095&downsample=4')"
     ],
     "language": "python",
     "metadata": {},
     "outputs": [
      {
       "html": [
        "<img src=\"http://api.brain-map.org/api/v2/section_image_download/102146167?range=0,923,0,987,0,4095&downsample=4\"/>"
       ],
       "metadata": {},
       "output_type": "pyout",
       "prompt_number": 3,
       "text": [
        "<IPython.core.display.Image at 0x7fb38958f250>"
       ]
      }
     ],
     "prompt_number": 3
    },
    {
     "cell_type": "code",
     "collapsed": false,
     "input": [
      "Image(url='http://api.brain-map.org/api/v2/projection_image_download/126862583?downsample=4&projection=true')"
     ],
     "language": "python",
     "metadata": {},
     "outputs": [
      {
       "html": [
        "<img src=\"http://api.brain-map.org/api/v2/projection_image_download/126862583?downsample=4&projection=true\"/>"
       ],
       "metadata": {},
       "output_type": "pyout",
       "prompt_number": 4,
       "text": [
        "<IPython.core.display.Image at 0x7fb38958fd50>"
       ]
      }
     ],
     "prompt_number": 4
    }
   ],
   "metadata": {}
  }
 ]
}