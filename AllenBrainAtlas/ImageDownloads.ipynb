{
 "metadata": {
  "name": "",
  "signature": "sha256:2e6c3a15d931c10529423014b01aa8f83bcf9b7119e7b853e5ac9f92e53a0c96"
 },
 "nbformat": 3,
 "nbformat_minor": 0,
 "worksheets": [
  {
   "cells": [
    {
     "cell_type": "markdown",
     "metadata": {},
     "source": [
      "**Instructions for Downloading Images:** http://help.brain-map.org/display/api/Downloading+an+Image"
     ]
    },
    {
     "cell_type": "code",
     "collapsed": false,
     "input": [
      "from IPython.display import Image\n",
      "Image(url='http://api.brain-map.org/api/v2/section_image_download/69750516?downsample=4.jpg')"
     ],
     "language": "python",
     "metadata": {},
     "outputs": [
      {
       "html": [
        "<img src=\"http://api.brain-map.org/api/v2/section_image_download/69750516?downsample=4.jpg\"/>"
       ],
       "metadata": {},
       "output_type": "pyout",
       "prompt_number": 2,
       "text": [
        "<IPython.core.display.Image at 0x7f9bac03f990>"
       ]
      }
     ],
     "prompt_number": 2
    },
    {
     "cell_type": "code",
     "collapsed": false,
     "input": [
      "Image(url='http://api.brain-map.org/api/v2/atlas_image_download/100883869?downsample=4&annotation=true')"
     ],
     "language": "python",
     "metadata": {},
     "outputs": [
      {
       "html": [
        "<img src=\"http://api.brain-map.org/api/v2/atlas_image_download/100883869?downsample=4&annotation=true\"/>"
       ],
       "metadata": {},
       "output_type": "pyout",
       "prompt_number": 3,
       "text": [
        "<IPython.core.display.Image at 0x7f9bac03f7d0>"
       ]
      }
     ],
     "prompt_number": 3
    },
    {
     "cell_type": "code",
     "collapsed": false,
     "input": [
      "Image(url='http://t.co/mOoYlubbeL.jpg')"
     ],
     "language": "python",
     "metadata": {},
     "outputs": [
      {
       "html": [
        "<img src=\"http://t.co/mOoYlubbeL.jpg\"/>"
       ],
       "metadata": {},
       "output_type": "pyout",
       "prompt_number": 7,
       "text": [
        "<IPython.core.display.Image at 0x7f9bac03f8d0>"
       ]
      }
     ],
     "prompt_number": 7
    },
    {
     "cell_type": "code",
     "collapsed": false,
     "input": [
      "Image(url='http://api.brain-map.org/api/v2/section_image_download/102146167?range=0,923,0,987,0,4095&downsample=4')"
     ],
     "language": "python",
     "metadata": {},
     "outputs": [
      {
       "html": [
        "<img src=\"http://api.brain-map.org/api/v2/section_image_download/102146167?range=0,923,0,987,0,4095&downsample=4\"/>"
       ],
       "metadata": {},
       "output_type": "pyout",
       "prompt_number": 5,
       "text": [
        "<IPython.core.display.Image at 0x7f9bac03f610>"
       ]
      }
     ],
     "prompt_number": 5
    },
    {
     "cell_type": "code",
     "collapsed": false,
     "input": [
      "Image(url='http://api.brain-map.org/api/v2/projection_image_download/126862583?downsample=4&projection=true')"
     ],
     "language": "python",
     "metadata": {},
     "outputs": [
      {
       "html": [
        "<img src=\"http://api.brain-map.org/api/v2/projection_image_download/126862583?downsample=4&projection=true\"/>"
       ],
       "metadata": {},
       "output_type": "pyout",
       "prompt_number": 4,
       "text": [
        "<IPython.core.display.Image at 0x7fb38958fd50>"
       ]
      }
     ],
     "prompt_number": 4
    }
   ],
   "metadata": {}
  }
 ]
}