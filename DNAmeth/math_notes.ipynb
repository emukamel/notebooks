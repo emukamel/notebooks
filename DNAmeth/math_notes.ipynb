{
 "cells": [
  {
   "cell_type": "markdown",
   "metadata": {},
   "source": [
    "### Questions:\n",
    "\n",
    "* How many saddle points?\n",
    "* Why is the Logistic loss function performing badly?\n",
    "\n",
    "### Logistic Loss\n",
    "\n",
    "The logistic loss function is given by:\n",
    "\n",
    "$$L(A,x_i,y_j) = \\sum_{(i,j) \\in \\Omega} L(A_{ij},x_i,y_j) = \\sum_{(i,j) \\in \\Omega} \\log(1 + \\exp (-A_{ij}(x_i y_j)))$$\n",
    "\n",
    "with $A_{ij} = {-1,1}$, $x_i$ is a row of $X$, $y_j$ is a column of $Y$. Now characterize the critical points of the loss function. The first derivative with respect to the vector $x_i$ is:\n",
    "\n",
    "$$\n",
    "\\frac{\\partial L(A_{ij},x_i,y_j)}{\\partial x_i} = \\\n",
    "\\frac{1}{1 + \\exp (-A_{ij}(x_i y_j))} \\frac{\\partial}{\\partial x_i} \\left [ 1 + \\exp (-A_{ij}(x_i y_j)) \\right ]=\\\n",
    "\\frac{-A_{ij} \\exp(-A_{ij}(x_i y_j))}{1 + \\exp (-A_{ij}(x_i y_j))} y_j^T \\\\\n",
    " = \\frac{-A_{ij}}{1 + \\exp (A_{ij}(x_i y_j))} y_j^T\n",
    "$$\n",
    "\n",
    "Similarly, with respect to $y_i$:\n",
    "\n",
    "$$\n",
    "\\frac{\\partial L(A_{ij},x_i,y_j)}{\\partial y_i} = \\frac{-A_{ij}}{1 + \\exp (A_{ij}(x_i y_j))} x_i\n",
    "$$\n",
    "\n",
    "Then:\n",
    "\n",
    "$$\n",
    "\\frac{\\partial L(A,x_i,y_j)}{\\partial x_i} = \\sum_{j \\in \\Omega(i,\\cdot)} \\frac{-A_{ij}}{1 + \\exp (A_{ij}(x_i y_j))} y_j^T\n",
    "$$\n",
    "\n",
    "$$\n",
    "\\frac{\\partial L(A,x_i,y_j)}{\\partial y_j} = \\sum_{i \\in \\Omega(\\cdot,j)} \\frac{-A_{ij}}{1 + \\exp (A_{ij}(x_i y_j))} x_i\n",
    "$$\n"
   ]
  },
  {
   "cell_type": "code",
   "execution_count": null,
   "metadata": {
    "collapsed": true
   },
   "outputs": [],
   "source": []
  }
 ],
 "metadata": {
  "kernelspec": {
   "display_name": "Julia 0.3.8",
   "language": "julia",
   "name": "julia-0.3"
  },
  "language_info": {
   "name": "julia",
   "version": "0.3.8"
  }
 },
 "nbformat": 4,
 "nbformat_minor": 0
}
