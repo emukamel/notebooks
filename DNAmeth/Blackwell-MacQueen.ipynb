{
 "cells": [
  {
   "cell_type": "code",
   "execution_count": 1,
   "metadata": {
    "collapsed": false
   },
   "outputs": [
    {
     "name": "stderr",
     "output_type": "stream",
     "text": [
      "INFO: Loading help data...\n"
     ]
    }
   ],
   "source": [
    "using Distributions\n",
    "using PyPlot\n",
    "using Color"
   ]
  },
  {
   "cell_type": "code",
   "execution_count": 2,
   "metadata": {
    "collapsed": false
   },
   "outputs": [
    {
     "data": {
      "text/plain": [
       "plot_meth_avg (generic function with 1 method)"
      ]
     },
     "execution_count": 2,
     "metadata": {},
     "output_type": "execute_result"
    }
   ],
   "source": [
    "function get_colors(N)\n",
    "    h = 0\n",
    "    col = zeros(3,N)\n",
    "    for i = 1:N\n",
    "        color = convert(RGB, HSL((h%1)*360, 0.5, 0.5));\n",
    "        col[:,i] = [color.r color.g color.b]\n",
    "        h += 0.618033988749895 # silver ratio\n",
    "    end\n",
    "    return col\n",
    "end\n",
    "\n",
    "function plot_meth(X,c)\n",
    "    nc = int(maximum(c)) # number of clusters\n",
    "    col = get_colors(nc)\n",
    "    N,W = size(X)\n",
    "    ind = sortperm(c)\n",
    "    y = 1\n",
    "    for n = ind\n",
    "        plot([0.5,W+0.5],[y,y],\"-\",color=col[:,c[n]])\n",
    "        for w = 1:W\n",
    "            if X[n,w]\n",
    "                plot(w,y,\"o\",color=col[:,c[n]])\n",
    "            else\n",
    "                plot(w,y,\"o\",color=col[:,c[n]],mfc=\"w\")\n",
    "            end\n",
    "        end\n",
    "        y += 1\n",
    "    end\n",
    "    xlim([0,1+W])\n",
    "    ylim([0,1+N])\n",
    "    xticks([])\n",
    "    yticks([])\n",
    "    title(\"All reads, with assigned clusters\")\n",
    "end\n",
    "\n",
    "function plot_meth_avg(X,c)\n",
    "    nc = int(maximum(c)) # number of clusters\n",
    "    col = get_colors(nc)\n",
    "    N,W = size(X)\n",
    "    \n",
    "    for cc = 1:nc\n",
    "        Xavg = mean(X[c .== cc,:],1)\n",
    "        plot([0.5,W+0.5],[cc,cc],\"-\",color=col[:,cc])\n",
    "        for w = 1:W\n",
    "            color = Xavg[w]*col[:,cc] + (1- Xavg[w])*[1,1,1];\n",
    "            plot(w,cc,\"o\",color=color)\n",
    "        end\n",
    "    end\n",
    "    xlim([0,1+W])\n",
    "    ylim([0,1+nc])\n",
    "    xticks([])\n",
    "    yticks([])\n",
    "    title(\"average methylation pattern\")\n",
    "end"
   ]
  },
  {
   "cell_type": "code",
   "execution_count": 3,
   "metadata": {
    "collapsed": false
   },
   "outputs": [
    {
     "data": {
      "text/plain": [
       "beta_binomial_likelihood (generic function with 1 method)"
      ]
     },
     "execution_count": 3,
     "metadata": {},
     "output_type": "execute_result"
    }
   ],
   "source": [
    "function beta_binomial_likelihood(Xc,G)\n",
    "    # Computes the likelihood for a subset of the data, Xc\n",
    "    n = size(Xc,1)\n",
    "    x_sum = sum(Xc,1)\n",
    "    return sum(lgamma(n + 1) + \n",
    "               lgamma(x_sum + G[\"a\"]) + \n",
    "               lgamma(n - x_sum + G[\"b\"]) + \n",
    "               lgamma(G[\"a\"] + G[\"b\"]) - \n",
    "               lgamma(x_sum + 1) - \n",
    "               lgamma(n - x_sum + 1) - \n",
    "               lgamma(n + G[\"a\"] + G[\"b\"]) - \n",
    "               lgamma(G[\"a\"]) - \n",
    "               lgamma(G[\"b\"]))\n",
    "end"
   ]
  },
  {
   "cell_type": "code",
   "execution_count": 4,
   "metadata": {
    "collapsed": false
   },
   "outputs": [
    {
     "ename": "LoadError",
     "evalue": "X not defined\nwhile loading In[4], in expression starting on line 3",
     "output_type": "error",
     "traceback": [
      "X not defined\nwhile loading In[4], in expression starting on line 3",
      ""
     ]
    }
   ],
   "source": [
    "# the likelihood function should be higher when likelihoods are computed separately for each cluster?\n",
    "\n",
    "L0 = beta_binomial_likelihood(X,G)\n",
    "L1 = 0\n",
    "for cc = 1:maximum(c)\n",
    "    L1 += beta_binomial_likelihood(X[c.==cc,:],G)\n",
    "end\n",
    "\n",
    "println(L0)\n",
    "println(L1)\n",
    "println(L1/maximum(c))"
   ]
  },
  {
   "cell_type": "code",
   "execution_count": 5,
   "metadata": {
    "collapsed": false
   },
   "outputs": [
    {
     "data": {
      "image/png": "[encoded data removed]",
      "text/plain": [
       "Figure(PyObject <matplotlib.figure.Figure object at 0x7f0ea8587ad0>)"
      ]
     },
     "metadata": {},
     "output_type": "display_data"
    },
    {
     "data": {
      "image/png": "[encoded data removed]",
      "text/plain": [
       "Figure(PyObject <matplotlib.figure.Figure object at 0x7f0e7844ed10>)"
      ]
     },
     "metadata": {},
     "output_type": "display_data"
    }
   ],
   "source": [
    "## PRIOR DISTRIBUTION\n",
    "# Blackwell-MacQueen urn scheme\n",
    "N = 30 # number of reads\n",
    "W = 10 # number of sites per read\n",
    "X = bool(zeros(N,W))\n",
    "P = zeros(1,W)\n",
    "G = {\"a\"=>ones(1,W),\"b\"=>ones(1,W)} # alpha and beta for beta prior\n",
    "alpha = 1 # dispersion parameter for Dirichlet Process\n",
    "\n",
    "# initialize probabilities for first cluster\n",
    "for w = 1:W\n",
    "    a,b = G[\"a\"][w],G[\"b\"][w]\n",
    "    P[1,w] = rand(Beta(a,b))\n",
    "end\n",
    "c = zeros(N)\n",
    "c[1] = 1\n",
    "\n",
    "for n = 2:N\n",
    "    # sample from categorical distribution with probability vector p_\n",
    "    #  -- A new cluster is formed with probability alpha/(alpha+n-1)\n",
    "    #  -- Each old datapoint has probability 1/(alpha+n-1) of being reused\n",
    "    p_ = [ones(n-1)/(n-1+alpha), alpha/(n-1+alpha)]\n",
    "    j = rand(Categorical(p_))\n",
    "    if j <= (n-1) \n",
    "        c[n] = c[j] # Re-use cluster c[j]\n",
    "    else\n",
    "        # Make a new cluster\n",
    "        P = [P;zeros(1,W)]\n",
    "        for w = 1:W\n",
    "            a,b = G[\"a\"][w],G[\"b\"][w]\n",
    "            P[end,w] = rand(Beta(a,b))\n",
    "        end\n",
    "        c[n] = size(P,1) # new cluster index\n",
    "    end\n",
    "    \n",
    "    for w = 1:W\n",
    "        X[n,w] = rand(Bernoulli(P[c[n],w]))\n",
    "    end\n",
    "end\n",
    "\n",
    "# Plots\n",
    "figure(figsize=(3,5))\n",
    "plot_meth(X,c)\n",
    "\n",
    "figure(figsize=(3,size(P,1)*0.25))\n",
    "plot_meth_avg(X,c)\n",
    "show()"
   ]
  },
  {
   "cell_type": "code",
   "execution_count": 6,
   "metadata": {
    "collapsed": false
   },
   "outputs": [
    {
     "data": {
      "image/png": "[encoded data removed]",
      "text/plain": [
       "Figure(PyObject <matplotlib.figure.Figure object at 0x7f0ea8587f50>)"
      ]
     },
     "metadata": {},
     "output_type": "display_data"
    },
    {
     "data": {
      "text/plain": [
       "PyObject <matplotlib.text.Text object at 0x7f0e7810f690>"
      ]
     },
     "execution_count": 6,
     "metadata": {},
     "output_type": "execute_result"
    }
   ],
   "source": [
    "# Plots\n",
    "figure(figsize=(3,5))\n",
    "plot_meth(X,ones(N))"
   ]
  },
  {
   "cell_type": "code",
   "execution_count": null,
   "metadata": {
    "collapsed": true
   },
   "outputs": [],
   "source": []
  }
 ],
 "metadata": {
  "kernelspec": {
   "display_name": "Julia 0.3.7",
   "language": "julia",
   "name": "julia 0.3"
  },
  "language_info": {
   "name": "julia",
   "version": "0.3.7"
  }
 },
 "nbformat": 4,
 "nbformat_minor": 0
}
