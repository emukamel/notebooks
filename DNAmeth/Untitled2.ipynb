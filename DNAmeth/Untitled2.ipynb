{
 "cells": [
  {
   "cell_type": "code",
   "execution_count": 12,
   "metadata": {
    "collapsed": false
   },
   "outputs": [
    {
     "name": "stdout",
     "output_type": "stream",
     "text": [
      "Fitting GLRM\n"
     ]
    },
    {
     "ename": "LoadError",
     "evalue": "`similar` has no method matching similar(::StridedView{Float64,2,0,Array{Float64,2}}, ::Type{Bool}, ::(Int64,Int64))\nwhile loading In[12], in expression starting on line 14",
     "output_type": "error",
     "traceback": [
      "`similar` has no method matching similar(::StridedView{Float64,2,0,Array{Float64,2}}, ::Type{Bool}, ::(Int64,Int64))\nwhile loading In[12], in expression starting on line 14",
      "",
      " in similar at abstractarray.jl:116",
      " in map at abstractarray.jl:1329",
      " in evaluate at /home/alex/.julia/v0.3/LowRankModels/src/loss_and_reg.jl:174",
      " in objective at /home/alex/.julia/v0.3/LowRankModels/src/glrm.jl:49",
      " in objective at /home/alex/.julia/v0.3/LowRankModels/src/glrm.jl:37",
      " in objective at /home/alex/.julia/v0.3/LowRankModels/src/glrm.jl:57",
      " in fit! at /home/alex/.julia/v0.3/LowRankModels/src/glrm.jl:108",
      " in fit_nnmf2 at In[12]:9"
     ]
    }
   ],
   "source": [
    "using LowRankModels\n",
    "\n",
    "function fit_nnmf(m,n,k)\n",
    "    # matrix to encode\n",
    "    A = rand(m,k)*rand(k,n)\n",
    "    losses = fill(quadratic(),n)\n",
    "    r = nonnegative()\n",
    "    glrm = GLRM(A,losses,r,r,k)\n",
    "    X,Y,ch = fit!(glrm)\n",
    "    println(\"Convergence history:\",ch.objective)\n",
    "    return A,X,Y,ch\n",
    "end\n",
    "\n",
    "A,X,Y,ch = fit_nnmf(100,50,2)"
   ]
  },
  {
   "cell_type": "code",
   "execution_count": null,
   "metadata": {
    "collapsed": true
   },
   "outputs": [],
   "source": []
  }
 ],
 "metadata": {
  "kernelspec": {
   "display_name": "Julia 0.3.7",
   "language": "julia",
   "name": "julia 0.3"
  },
  "language_info": {
   "name": "julia",
   "version": "0.3.8"
  }
 },
 "nbformat": 4,
 "nbformat_minor": 0
}
