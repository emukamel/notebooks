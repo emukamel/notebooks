{
 "cells": [
  {
   "cell_type": "markdown",
   "metadata": {},
   "source": [
    "`cnl/genomics/public_datasets/nathans_ctx_retina/reads/AM_E1` **first replicate of excitatory neurons**\n",
    "\n",
    "`cnl/genomics/public_datasets/nathans_ctx_retina/reads/AM_P13P14` **replicate of PV neurons**\n",
    "\n",
    "`samtools view *.bam` **uncompresses reads and shows a** `.sam` **file**\n",
    "\n",
    "`.bai` **is the bam file index**\n",
    "\n",
    "`samtools view *.bam chr19` **gives you chromosome 19**\n",
    "\n",
    "`samtools sort` **and then take the first number of reads you want**\n",
    "\n",
    "**To mix Exc and PV use** `samtools view -h *.bam > mixed.bam`\n",
    "\n",
    "**Also play with** `samtools merge`\n",
    "\n",
    "**Google the** `.sam` **format for the column headers**\n",
    "\n",
    "**Conversions from C -> T means unmethylated**\n",
    "\n",
    "**If C -> C then methylated (protected from conversion)**\n",
    "\n",
    "**20-50 million reads in each file**\n",
    "\n",
    "**Copying file into sandbox** `nohup samtools view *.bam chr19 > cnl/genomics/ahwillia/*.chr19.bam`"
   ]
  },
  {
   "cell_type": "code",
   "execution_count": null,
   "metadata": {
    "collapsed": true
   },
   "outputs": [],
   "source": []
  }
 ],
 "metadata": {
  "kernelspec": {
   "display_name": "Python 2",
   "language": "python",
   "name": "python2"
  },
  "language_info": {
   "codemirror_mode": {
    "name": "ipython",
    "version": 2
   },
   "file_extension": ".py",
   "mimetype": "text/x-python",
   "name": "python",
   "nbconvert_exporter": "python",
   "pygments_lexer": "ipython2",
   "version": "2.7.9"
  }
 },
 "nbformat": 4,
 "nbformat_minor": 0
}
