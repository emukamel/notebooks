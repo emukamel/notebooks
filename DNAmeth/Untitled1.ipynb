{
 "cells": [
  {
   "cell_type": "code",
   "execution_count": 4,
   "metadata": {
    "collapsed": false
   },
   "outputs": [
    {
     "data": {
      "text/plain": [
       "10x10 Array{Float64,2}:\n",
       " 0.0        0.0774131  0.0        0.0171205  …  0.0       0.0        0.14902 \n",
       " 0.0        0.0        0.0        0.0           0.192202  0.0        0.320218\n",
       " 0.0959938  0.0        0.0972948  0.339301      0.0       0.438935   0.0     \n",
       " 0.206255   0.221164   0.169426   0.0           0.0       0.214058   0.0     \n",
       " 0.276834   0.463179   0.104946   0.0           0.381524  0.491619   0.0     \n",
       " 0.0        0.162836   0.0        0.0        …  0.0       0.382141   0.358272\n",
       " 0.0        0.0        0.0        0.317789      0.0       0.0        0.0     \n",
       " 0.204202   0.279053   0.238654   0.322374      0.0       0.0353874  0.400514\n",
       " 0.0567574  0.219606   0.159929   0.282458      0.0       0.386978   0.0     \n",
       " 0.288019   0.0        0.283274   0.0           0.0       0.449911   0.348948"
      ]
     },
     "execution_count": 4,
     "metadata": {},
     "output_type": "execute_result"
    }
   ],
   "source": [
    "u = rand(10,10)-0.5\n",
    "\n",
    "broadcast(max,u,0)"
   ]
  },
  {
   "cell_type": "code",
   "execution_count": null,
   "metadata": {
    "collapsed": true
   },
   "outputs": [],
   "source": []
  }
 ],
 "metadata": {
  "kernelspec": {
   "display_name": "Julia 0.3.8",
   "language": "julia",
   "name": "julia-0.3"
  },
  "language_info": {
   "name": "julia",
   "version": "0.3.8"
  }
 },
 "nbformat": 4,
 "nbformat_minor": 0
}
