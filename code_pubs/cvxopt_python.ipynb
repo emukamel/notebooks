{
 "cells": [
  {
   "cell_type": "markdown",
   "metadata": {},
   "source": [
    "Tutorial: https://courses.csail.mit.edu/6.867/wiki/images/a/a7/Qp-cvxopt.pdf"
   ]
  },
  {
   "cell_type": "code",
   "execution_count": 1,
   "metadata": {
    "collapsed": false
   },
   "outputs": [],
   "source": [
    "import numpy as np\n",
    "from cvxopt import matrix\n",
    "\n",
    "P = matrix([[13,12,-2],\n",
    "            [12,17,6],\n",
    "            [-2,6,12]],tc='d')\n",
    "\n",
    "q = matrix([-22,-14.5,13],tc='d')\n",
    "\n",
    "G = matrix([[1 ,  0,  0],\n",
    "            [0 ,  1,  0],\n",
    "            [0 ,  0,  1],\n",
    "            [-1,  0,  0],\n",
    "            [0 , -1,  0],\n",
    "            [0 ,  0, -1]],tc='d').T\n",
    "\n",
    "h = matrix([1,1,1,1,1,1],tc='d')"
   ]
  },
  {
   "cell_type": "code",
   "execution_count": 2,
   "metadata": {
    "collapsed": false
   },
   "outputs": [
    {
     "name": "stdout",
     "output_type": "stream",
     "text": [
      "[ 1.00e+00]\n",
      "[ 1.00e+00]\n",
      "[ 1.00e+00]\n",
      "[ 1.00e+00]\n",
      "[ 1.00e+00]\n",
      "[ 1.00e+00]\n",
      "\n"
     ]
    }
   ],
   "source": [
    "print h"
   ]
  },
  {
   "cell_type": "code",
   "execution_count": 3,
   "metadata": {
    "collapsed": false
   },
   "outputs": [
    {
     "name": "stdout",
     "output_type": "stream",
     "text": [
      "     pcost       dcost       gap    pres   dres\n",
      " 0: -2.2538e+01 -3.0261e+01  8e+00  0e+00  1e-17\n",
      " 1: -2.2605e+01 -2.2734e+01  1e-01  3e-16  7e-17\n",
      " 2: -2.2624e+01 -2.2626e+01  2e-03  3e-16  3e-17\n",
      " 3: -2.2625e+01 -2.2625e+01  2e-05  9e-17  4e-17\n",
      "Optimal solution found.\n"
     ]
    }
   ],
   "source": [
    "from cvxopt import solvers\n",
    "\n",
    "sol = solvers.qp(P,q,G,h)"
   ]
  },
  {
   "cell_type": "code",
   "execution_count": 4,
   "metadata": {
    "collapsed": false
   },
   "outputs": [
    {
     "data": {
      "text/plain": [
       "{'dual infeasibility': 4.318774907015183e-17,\n",
       " 'dual objective': -22.625012490894495,\n",
       " 'dual slack': 1.1823034730347304e-06,\n",
       " 'gap': 1.7866380735781174e-05,\n",
       " 'iterations': 3,\n",
       " 'primal infeasibility': 9.06493303673679e-17,\n",
       " 'primal objective': -22.624994624513757,\n",
       " 'primal slack': 7.783824700687446e-08,\n",
       " 'relative gap': 7.896744742835557e-07,\n",
       " 's': <6x1 matrix, tc='d'>,\n",
       " 'status': 'optimal',\n",
       " 'x': <3x1 matrix, tc='d'>,\n",
       " 'y': <0x1 matrix, tc='d'>,\n",
       " 'z': <6x1 matrix, tc='d'>}"
      ]
     },
     "execution_count": 4,
     "metadata": {},
     "output_type": "execute_result"
    }
   ],
   "source": [
    "sol"
   ]
  },
  {
   "cell_type": "code",
   "execution_count": 5,
   "metadata": {
    "collapsed": false
   },
   "outputs": [
    {
     "name": "stdout",
     "output_type": "stream",
     "text": [
      "[[ 0.99999478]\n",
      " [ 0.50000345]\n",
      " [-0.99999992]]\n"
     ]
    }
   ],
   "source": [
    "print np.array(sol['x'])"
   ]
  },
  {
   "cell_type": "code",
   "execution_count": 6,
   "metadata": {
    "collapsed": false
   },
   "outputs": [
    {
     "data": {
      "text/plain": [
       "<3x6 matrix, tc='d'>"
      ]
     },
     "execution_count": 6,
     "metadata": {},
     "output_type": "execute_result"
    }
   ],
   "source": [
    "G.T"
   ]
  },
  {
   "cell_type": "code",
   "execution_count": 7,
   "metadata": {
    "collapsed": false
   },
   "outputs": [
    {
     "data": {
      "text/plain": [
       "array([[-2.00005502]])"
      ]
     },
     "execution_count": 7,
     "metadata": {},
     "output_type": "execute_result"
    }
   ],
   "source": [
    "np.dot(sol['x'].T,np.dot(P,sol['x'])) + np.dot(q.T,sol['x']) + 1"
   ]
  },
  {
   "cell_type": "code",
   "execution_count": 8,
   "metadata": {
    "collapsed": false
   },
   "outputs": [
    {
     "data": {
      "text/plain": [
       "array([ 9.29284849])"
      ]
     },
     "execution_count": 8,
     "metadata": {},
     "output_type": "execute_result"
    }
   ],
   "source": [
    "y = np.array([1,-0.2059698901171804,1])\n",
    "np.dot(y.T,np.dot(np.array(P),y)) + np.dot(np.array(q).T,y) + 1"
   ]
  },
  {
   "cell_type": "code",
   "execution_count": 9,
   "metadata": {
    "collapsed": false
   },
   "outputs": [
    {
     "name": "stdout",
     "output_type": "stream",
     "text": [
      "[ 1.00e+00]\n",
      "[ 5.00e-01]\n",
      "[-1.00e+00]\n",
      "\n"
     ]
    }
   ],
   "source": [
    "print sol['x']"
   ]
  }
 ],
 "metadata": {
  "kernelspec": {
   "display_name": "Python 2",
   "language": "python",
   "name": "python2"
  },
  "language_info": {
   "codemirror_mode": {
    "name": "ipython",
    "version": 2
   },
   "file_extension": ".py",
   "mimetype": "text/x-python",
   "name": "python",
   "nbconvert_exporter": "python",
   "pygments_lexer": "ipython2",
   "version": "2.7.9"
  }
 },
 "nbformat": 4,
 "nbformat_minor": 0
}
