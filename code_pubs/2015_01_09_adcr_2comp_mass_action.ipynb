{
 "metadata": {
  "language": "Julia",
  "name": "",
  "signature": "sha256:6c25023c4269ecc5dd5ab6a9ee080cdf178ea7603249c63b022d633b2a278cca"
 },
 "nbformat": 3,
 "nbformat_minor": 0,
 "worksheets": [
  {
   "cells": [
    {
     "cell_type": "code",
     "collapsed": false,
     "input": [
      "## Run this notebook in IJulia\n",
      "using PyPlot"
     ],
     "language": "python",
     "metadata": {},
     "outputs": [
      {
       "output_type": "stream",
       "stream": "stderr",
       "text": [
        "INFO: Loading help data...\n"
       ]
      }
     ],
     "prompt_number": 1
    },
    {
     "cell_type": "markdown",
     "metadata": {},
     "source": [
      "## Section List\n",
      "* [Channel Kinetics and Voltage Dependence](#channel_models)\n",
      "* [Membrane Potential and Calcium Dynamics](#membrane)\n",
      "* [mRNA production, trafficking, conductance regulation](#adcr)\n",
      "* [Main simulation integration loop](#runsim)\n",
      "* [Plotting functions](#Plotting)\n",
      "* [Results Summary](#results)"
     ]
    },
    {
     "cell_type": "markdown",
     "metadata": {},
     "source": [
      "<a id='channel_models'></a>"
     ]
    },
    {
     "cell_type": "code",
     "collapsed": false,
     "input": [
      "## Channel Kinetics\n",
      "m_inf_na(v) = 1/(1+exp((v+25.5)/-5.29))\n",
      "h_inf_na(v) = 1/(1+exp((v+48.9)/5.18))\n",
      "m_tau_na(v) = 1.32 - 1.26/(1+exp((v+120)/-25))\n",
      "h_tau_na(v) = (0.67/(1+exp((v+62.9)/-10))) * (1.5 + 1/(1+exp((v+34.9)/3.6)))\n",
      "\n",
      "m_inf_cat(v) = 1/(1+exp((v+27.1)/-7.2))\n",
      "h_inf_cat(v) = 1/(1+exp((v+32.1)/5.5))\n",
      "m_tau_cat(v) = 21.7 - 21.3/(1+exp((v+68.1)/-20.5))\n",
      "h_tau_cat(v) = 105 - 89.8/(1+exp((v+55)/-16.9))\n",
      "\n",
      "m_inf_cas(v) = 1/(1+exp((v+33)/-8.1))\n",
      "h_inf_cas(v) = 1/(1+exp((v+60)/6.2))\n",
      "m_tau_cas(v) = 1.4 + 7/(exp((v+27)/10)+exp((v+70)/-13))\n",
      "h_tau_cas(v) = 60 + 150/(exp((v+55)/9)+exp((v+65)/-16))\n",
      "\n",
      "m_inf_ka(v) = 1/(1+exp((v+27.2)/-8.7))\n",
      "h_inf_ka(v) = 1/(1+exp((v+56.9)/4.9))\n",
      "m_tau_ka(v) = 11.6 - 10.4/(1+exp((v+32.9)/-15.2))\n",
      "h_tau_ka(v) = 38.6 - 29.2/(1+exp((v+38.9)/-26.5))\n",
      "\n",
      "m_inf_kca(v,ca) = (ca/(ca+3))*(1/(1+exp((v+28.3)/-12.6)))\n",
      "m_tau_kca(v) = 90.3 - 75.1/(1 + exp((v+46)/-22.7))\n",
      "\n",
      "m_inf_kd(v) = 1/(1+exp((v+12.3)/-11.8))\n",
      "m_tau_kd(v) = 7.2 - 6.4/(1 + exp((v+28.3)/-19.2))\n",
      "\n",
      "m_inf_h(v) = 1/(1+exp((v+70)/6))\n",
      "m_tau_h(v) = 272 + 1499/(1 + exp((v+42.2)/-8.73));\n",
      "\n",
      "## Reversal Potentials\n",
      "E_na = 50\n",
      "E_k = -80\n",
      "E_h = -20\n",
      "E_leak = -50\n",
      "\n",
      "## Calculate conductance from channel gates\n",
      "g(gbar,m,p;h=1.0,q=0) = gbar*(m^p)*(h^q)"
     ],
     "language": "python",
     "metadata": {},
     "outputs": [
      {
       "metadata": {},
       "output_type": "pyout",
       "prompt_number": 2,
       "text": [
        "g (generic function with 1 method)"
       ]
      }
     ],
     "prompt_number": 2
    },
    {
     "cell_type": "markdown",
     "metadata": {},
     "source": [
      "<a id=\"membrane\"></a>"
     ]
    },
    {
     "cell_type": "code",
     "collapsed": false,
     "input": [
      "## Integration routine\n",
      "exp_integrate(x0,xss,tau) = xss - (xss - x0)*exp(-dt/tau)\n",
      "\n",
      "## Update channel gates\n",
      "function update_gates(states)\n",
      "    v = states[1]\n",
      "    ca = states[2]\n",
      "    \n",
      "    states[3] = exp_integrate(states[3], m_inf_na(v),     m_tau_na(v))   # m_na\n",
      "    states[4] = exp_integrate(states[4], m_inf_cat(v),    m_tau_cat(v))  # m_cat\n",
      "    states[5] = exp_integrate(states[5], m_inf_cas(v),    m_tau_cas(v))  # m_cas\n",
      "    states[6] = exp_integrate(states[6], m_inf_ka(v),     m_tau_ka(v))   # m_ka\n",
      "    states[7] = exp_integrate(states[7], m_inf_kca(v,ca), m_tau_kca(v))  # m_kca\n",
      "    states[8] = exp_integrate(states[8], m_inf_kd(v),     m_tau_kd(v))   # m_kd\n",
      "    states[9] = exp_integrate(states[9], m_inf_h(v),      m_tau_h(v))    # m_h\n",
      "    \n",
      "    states[10] = exp_integrate(states[10], h_inf_na(v),  h_tau_na(v))    # h_na\n",
      "    states[11] = exp_integrate(states[11], h_inf_cat(v), h_tau_cat(v))   # h_cat\n",
      "    states[12] = exp_integrate(states[12], h_inf_cas(v), h_tau_cas(v))   # h_cas\n",
      "    states[13] = exp_integrate(states[13], h_inf_ka(v),  h_tau_ka(v))    # h_ka\n",
      "end\n",
      "function update_membrane(states,gbars,v_other)\n",
      "    # Calcium reversal\n",
      "    v = states[1]\n",
      "    ca = states[2]\n",
      "    E_ca = ((1000*8.3144621*284) / (2*96485.3365)) * log(3000.0/ca)\n",
      "    \n",
      "    # Conductances\n",
      "    g_na   = g(gbars[1],states[3],3,h=states[10],q=1)\n",
      "    g_cat  = g(gbars[2],states[4],3,h=states[11],q=1)\n",
      "    g_cas  = g(gbars[3],states[5],3,h=states[12],q=1)\n",
      "    g_ka   = g(gbars[4],states[6],3,h=states[13],q=1)\n",
      "    g_kca  = g(gbars[5],states[7],4)\n",
      "    g_kd   = g(gbars[6],states[8],4)\n",
      "    g_h    = g(gbars[7],states[9],1)\n",
      "    g_leak = gbars[8]\n",
      "    \n",
      "    # Update voltage\n",
      "    g_tot = g_na+g_cat+g_cas+g_ka+g_kca+g_kd+g_h+g_leak+g_coupling\n",
      "    g_weighted = (E_na*g_na)+(E_ca*g_cat)+(E_ca*g_cas)+(E_k*g_ka)+\n",
      "                 (E_k*g_kca)+(E_k*g_kd)+(E_h*g_h)+(E_leak*g_leak)+(v_other*g_coupling)\n",
      "    \n",
      "    v_ss = g_weighted/g_tot\n",
      "    v_tau = 1.0/g_tot  # conductances assumed to be normalized to capacitance\n",
      "    \n",
      "    states[1] = exp_integrate(v, v_ss, v_tau)\n",
      "    \n",
      "    # Update calcium\n",
      "    ica = g_cat*(v-E_ca) + g_cas*(v-E_ca)\n",
      "    ca_ss = -0.94*ica + 0.05 # uM\n",
      "    states[2] = exp_integrate(ca, ca_ss, 20)\n",
      "end"
     ],
     "language": "python",
     "metadata": {},
     "outputs": [
      {
       "metadata": {},
       "output_type": "pyout",
       "prompt_number": 3,
       "text": [
        "update_membrane (generic function with 1 method)"
       ]
      }
     ],
     "prompt_number": 3
    },
    {
     "cell_type": "markdown",
     "metadata": {},
     "source": [
      "<a id=\"adcr\"></a>"
     ]
    },
    {
     "cell_type": "code",
     "collapsed": false,
     "input": [
      "function update_mrna(ca,m1,m2,a,b,tau_u)\n",
      "    ca_targ = 6.097835137842077 # uM\n",
      "    for i = 1:7\n",
      "        # Forward Euler method is valid for this slower time scale\n",
      "        dm1 = ((ca_targ-ca)/tau_u[i]) - m1[i]*a[i] + m2[i]*b[i]\n",
      "        dm2 = m1[i]*a[i] - m2[i]*b[i]\n",
      "        m1[i] += dm1\n",
      "        m2[i] += dm2\n",
      "    end\n",
      "end\n",
      "\n",
      "function update_gbars(gbars,mrna,alphag)\n",
      "    betag = 1.0/1000\n",
      "    for i = 1:7\n",
      "        ss = alphag[i]*mrna[i]/betag\n",
      "        tau = 1/betag\n",
      "        gbars[i] = exp_integrate(gbars[i], ss, tau)\n",
      "    end\n",
      "end"
     ],
     "language": "python",
     "metadata": {},
     "outputs": [
      {
       "metadata": {},
       "output_type": "pyout",
       "prompt_number": 4,
       "text": [
        "update_gbars (generic function with 1 method)"
       ]
      }
     ],
     "prompt_number": 4
    },
    {
     "cell_type": "markdown",
     "metadata": {},
     "source": [
      "<a id=\"runsim\"></a>"
     ]
    },
    {
     "cell_type": "code",
     "collapsed": false,
     "input": [
      "## Main simulation loop\n",
      "dt = 0.02\n",
      "g_coupling = 0.5\n",
      "function rand_uniform(a, b)\n",
      "    a + rand()*(b - a)\n",
      "end\n",
      "\n",
      "function run_sim(tau_u,alphag,a,b;tmax=80e3,gleak_soma=None,gleak_axon=None)\n",
      "    if gleak_soma == None\n",
      "        gleak_soma=exp(rand_uniform(log(0.001),log(0.1)))\n",
      "    end\n",
      "    if gleak_axon == None\n",
      "        gleak_axon=exp(rand_uniform(log(0.001),log(0.1)))\n",
      "    end\n",
      "    t = [0:dt:tmax]\n",
      "\n",
      "    # Compartment gbars and init conditions\n",
      "    states_soma = [-55.0,0.05,0,0,0,0,0,0,1,1,1,1,1] # initial gates\n",
      "    gbars_soma = Array(Float64,8)\n",
      "    states_axon = [-55.0,0.05,0,0,0,0,0,0,1,1,1,1,1] # initial gates\n",
      "    gbars_axon = Array(Float64,8)\n",
      "    for i = 1:7\n",
      "        gbars_soma[i] = exp(rand_uniform(log(1e-6),log(5e-3)))\n",
      "        gbars_axon[i] = exp(rand_uniform(log(1e-6),log(5e-3)))\n",
      "    end\n",
      "    gbars_soma[8] = gleak_soma\n",
      "    mrna_soma = deepcopy(gbars_soma) # initial mrna levels\n",
      "    gbars_axon[8] = gleak_axon\n",
      "    mrna_axon = deepcopy(gbars_axon) # initial mrna levels\n",
      "    \n",
      "    # conductance insertion rate\n",
      "    alphag_soma = alphag[:,1]\n",
      "    alphag_axon = alphag[:,2]\n",
      "\n",
      "    v = Array(Float64,(length(t),2))\n",
      "    ca = Array(Float64,(length(t),2))\n",
      "    mrna = Array(Float64,(length(t),14))\n",
      "    \n",
      "    for i = 1:length(t)\n",
      "        v[i,1] = states_soma[1]\n",
      "        v[i,2] = states_axon[1]\n",
      "        ca[i,1] = states_soma[2]\n",
      "        ca[i,2] = states_axon[2]\n",
      "        mrna[i,1:7] = mrna_soma[1:7]\n",
      "        mrna[i,8:14] = mrna_axon[1:7]\n",
      "\n",
      "        update_gates(states_soma)\n",
      "        update_gates(states_axon)\n",
      "\n",
      "        update_membrane(states_soma,gbars_soma,v[i,2])\n",
      "        update_membrane(states_axon,gbars_axon,v[i,1])\n",
      "\n",
      "        update_mrna(states_soma[2],mrna_soma,mrna_axon,a,b,tau_u)\n",
      "\n",
      "        update_gbars(gbars_soma,mrna_soma,alphag_soma)\n",
      "        update_gbars(gbars_axon,mrna_axon,alphag_axon)\n",
      "    end\n",
      "    ds = 1:10:length(t)\n",
      "    return (t[ds],v[ds,:],ca[ds,:],mrna[ds,:],gbars_soma,gbars_axon)\n",
      "end\n",
      "\n",
      "# Run 10 simulations for a given parameter set. Randomize g_leak and initial gbars for each run.\n",
      "function run_batch(tau_u,alpha_g,a,b;nsim=7)\n",
      "    gend = Array(Float64,(nsim,16))\n",
      "    mend = Array(Float64,(nsim,14))\n",
      "    \n",
      "    max_g = -Inf\n",
      "    min_g = Inf\n",
      "\n",
      "    v_max = 0\n",
      "    v_min = 0\n",
      "\n",
      "    for i = 1:nsim\n",
      "        (t,v,ca,mrna,gbars_soma,gbars_axon) = run_sim(tau_u,alpha_g,a,b);\n",
      "        gend[i,:] = [gbars_soma,gbars_axon]\n",
      "        mend[i,:] = mrna[end,:]\n",
      "        if gend[i,2] > max_g\n",
      "            max_g = gend[i,2]\n",
      "            v_max = hcat(v,ca[:,1])\n",
      "        end\n",
      "        if gend[i,2] < min_g\n",
      "            min_g = gend[i,2]\n",
      "            v_min = hcat(v,ca[:,1])\n",
      "        end\n",
      "    end\n",
      "    t = linspace(0,40e3,size(v_min,1))\n",
      "    \n",
      "    # plot \n",
      "    figure()\n",
      "    subplot(3,2,1)\n",
      "    plot(t,v_min[:,3]) # ca trace\n",
      "    title(\"mean ca: \"*string(mean(v_min[t.>t[end]-10e3,3])))\n",
      "    xticks([])\n",
      "    subplot(3,2,2)\n",
      "    plot(t,v_max[:,3]) # ca trace\n",
      "    title(\"mean ca: \"*string(mean(v_max[t.>t[end]-10e3,3])))\n",
      "    xticks([])\n",
      "    subplot(3,2,3)\n",
      "    plot(t[t.>t[end]-1e3],v_min[t.>t[end]-1e3,1])\n",
      "    yticks([-80,60])\n",
      "    xticks([])\n",
      "    subplot(3,2,4)\n",
      "    plot(t[t.>t[end]-1e3],v_max[t.>t[end]-1e3,1])\n",
      "    yticks([-80,60])\n",
      "    xticks([])\n",
      "    subplot(3,2,5)\n",
      "    plot(t[t.>t[end]-1e3],v_min[t.>t[end]-1e3,2])\n",
      "    yticks([-80,60])\n",
      "    xticks([t[end]-1e3,t[end]])\n",
      "    subplot(3,2,6)\n",
      "    plot(t[t.>t[end]-1e3],v_max[t.>t[end]-1e3,2])\n",
      "    yticks([-80,60])\n",
      "    xticks([t[end]-1e3,t[end]])\n",
      "    \n",
      "    # return\n",
      "    return (gend[:,[2,3,4,5,6,7,9,12,14]],mend)\n",
      "end"
     ],
     "language": "python",
     "metadata": {},
     "outputs": [
      {
       "metadata": {},
       "output_type": "pyout",
       "prompt_number": 5,
       "text": [
        "run_batch (generic function with 1 method)"
       ]
      }
     ],
     "prompt_number": 5
    },
    {
     "cell_type": "markdown",
     "metadata": {},
     "source": [
      "<a id=\"Plotting\"></a>"
     ]
    },
    {
     "cell_type": "code",
     "collapsed": false,
     "input": [
      "## Plotting functions\n",
      "function standardize_axes()\n",
      "    ylim([-80,60])\n",
      "    yticks([-60,0])\n",
      "    xticks([])\n",
      "end\n",
      "\n",
      "# voltage traces\n",
      "function plot_evo_v()\n",
      "    figure()\n",
      "    subplot(3,2,1)\n",
      "    plot(t[t.<1e3],v[t.<1e3,1])\n",
      "    standardize_axes()\n",
      "    title(\"soma\",fontweight=\"bold\")\n",
      "\n",
      "    subplot(3,2,2)\n",
      "    plot(t[t.<1e3],v[t.<1e3,2])\n",
      "    standardize_axes()\n",
      "    title(\"axon\",fontweight=\"bold\")\n",
      "\n",
      "    subplot(3,2,3)\n",
      "    t1 = t[end]/2\n",
      "    plot(t[t1.<t.<t1+1e3],v[t1.<t.<t1+1e3,1])\n",
      "    standardize_axes()\n",
      "\n",
      "    subplot(3,2,4)\n",
      "    plot(t[t1.<t.<t1+1e3],v[t1.<t.<t1+1e3,2])\n",
      "    standardize_axes()\n",
      "\n",
      "    subplot(3,2,5)\n",
      "    t2 = t[end]-1e3\n",
      "    plot(t[t.>t2],v[t.>t2,1])\n",
      "    standardize_axes()\n",
      "    xlabel(\"1 s\",fontweight=\"bold\")\n",
      "\n",
      "    subplot(3,2,6)\n",
      "    plot(t[t.>t2],v[t.>t2,2])\n",
      "    standardize_axes()\n",
      "    xlabel(\"1 s\",fontweight=\"bold\")\n",
      "end\n",
      "\n",
      "# calcium trace\n",
      "function plot_calcium()\n",
      "    ca_targ = 6.097835137842077\n",
      "    figure()\n",
      "    plot(t,ca[:,1],\"-b\")\n",
      "    mavg_n = 20000\n",
      "    mavg_h = ones(Float64, mavg_n) / mavg_n\n",
      "    ca_avg = conv(ca[:,1], mavg_h)\n",
      "    ca_avg = ca_avg[mavg_n:end-mavg_n]\n",
      "    t_avg = t[mavg_n/2+1:end-mavg_n/2]\n",
      "    plot(t_avg, ca_avg,\"-r\",lw=2)\n",
      "    plot([t[1],t[end]],ca_targ*ones(2),\"-k\")\n",
      "end\n",
      "\n",
      "# Scatterplot matrix comparing steady-state gbars in two parameter sets\n",
      "function pairs(data,gx;ms=3,col=[\"b\",\"r\"])\n",
      "    (nobs, nvars) = size(data)\n",
      "    \n",
      "    # Plot data\n",
      "    n = 1\n",
      "    for i = 1:nvars\n",
      "        for j = 1:nvars\n",
      "            if i < j\n",
      "                ymin = minimum(data[:,i])-std(data[:,i])\n",
      "                ymax = maximum(data[:,i])+std(data[:,i])\n",
      "                xmin = minimum(data[:,j])-std(data[:,j])\n",
      "                xmax = maximum(data[:,j])+std(data[:,j])\n",
      "                \n",
      "                subplot(nvars,nvars,n)\n",
      "                \n",
      "                # theoretical prediction lines\n",
      "                xx = [minimum(data[:,j]), maximum(data[:,j])]\n",
      "                plot(xx,(gx[j,1]./gx[i,1]) .* xx,\"-\",color=col[1])\n",
      "                plot(xx,(gx[j,2]./gx[i,2]) .* xx,\"-\",color=col[2])\n",
      "                \n",
      "                # simulated data points\n",
      "                plot(data[1:(nobs/2),j],data[1:(nobs/2),i],\"o\",color=col[1],markersize=ms)\n",
      "                plot(data[(nobs/2)+1:end,j],data[(nobs/2)+1:end,i],\"o\",color=col[2],markersize=ms)\n",
      "                \n",
      "                xticks([])\n",
      "                yticks([])\n",
      "                ylim([ymin,ymax])\n",
      "                xlim([xmin,xmax])\n",
      "            end\n",
      "            n = n+1\n",
      "        end\n",
      "    end\n",
      "    tight_layout()\n",
      "end"
     ],
     "language": "python",
     "metadata": {},
     "outputs": [
      {
       "metadata": {},
       "output_type": "pyout",
       "prompt_number": 6,
       "text": [
        "pairs (generic function with 1 method)"
       ]
      }
     ],
     "prompt_number": 6
    },
    {
     "cell_type": "markdown",
     "metadata": {},
     "source": [
      "<a id=\"results\"></a>"
     ]
    },
    {
     "cell_type": "markdown",
     "metadata": {},
     "source": [
      "## Results\n"
     ]
    },
    {
     "cell_type": "code",
     "collapsed": false,
     "input": [
      "## First parameter set\n",
      "alpha_g = hcat([0.0, 1.0, 1.0, 1.0, 1.0, 1/10.0, 1.0],\n",
      "               [1.0, 0.0, 0.0, 1/10.0, 0.0, 1.0, 0.0])/1000\n",
      "tau_u = [1.0, 250.0, 78.9, 6.0, 2.3, 10.0, 6521.73]*1e4\n",
      "a = [0.1, 0.1, 0.1, 0.1, 0.1, 0.1, 0.1]\n",
      "b = [0.1, 0.1, 0.1, 0.1, 0.1, 0.1, 0.1]\n",
      "(t,v,ca,mrna,gbars_soma,gbars_axon) = run_sim(tau_u,alpha_g,a,b,gleak_soma=0.01,gleak_axon=0.01);"
     ],
     "language": "python",
     "metadata": {},
     "outputs": []
    },
    {
     "cell_type": "code",
     "collapsed": false,
     "input": [
      "plot_evo_v()\n",
      "savefig(\"first_model_mass_action.svg\")"
     ],
     "language": "python",
     "metadata": {},
     "outputs": []
    },
    {
     "cell_type": "code",
     "collapsed": false,
     "input": [
      "plot_calcium()"
     ],
     "language": "python",
     "metadata": {},
     "outputs": []
    },
    {
     "cell_type": "code",
     "collapsed": false,
     "input": [
      "## Second parameter set\n",
      "alpha_g = hcat([0.0, 1.0, 1.0, 1.0, 1.0, 1/10.0, 1.0],\n",
      "               [1.0, 0.0, 0.0, 1/5.0, 0.0, 1.0, 0.0])/1000\n",
      "tau_u = [1.0, 200.0, 100.0, 12.0, 5.3, 20.0, 3000.0]*1e4\n",
      "a = [0.20, 0.10, 0.11, 0.10, 0.13, 0.18, 0.08]\n",
      "b = [0.10, 0.12, 0.10, 0.17, 0.08, 0.09, 0.11]\n",
      "(t,v,ca,mrna,gbars_soma,gbars_axon) = run_sim(tau_u,alpha_g,a,b,gleak_soma=0.01,gleak_axon=0.01);"
     ],
     "language": "python",
     "metadata": {},
     "outputs": []
    },
    {
     "cell_type": "code",
     "collapsed": false,
     "input": [
      "plot_evo_v()\n",
      "savefig(\"second_model_mass_action.svg\")"
     ],
     "language": "python",
     "metadata": {},
     "outputs": []
    },
    {
     "cell_type": "code",
     "collapsed": false,
     "input": [
      "plot_calcium()"
     ],
     "language": "python",
     "metadata": {},
     "outputs": []
    },
    {
     "cell_type": "code",
     "collapsed": false,
     "input": [
      "# Run simulations for each parameter set\n",
      "alpha_g = hcat([0.0, 1.0, 1.0, 1.0, 1.0, 1/10.0, 1.0],\n",
      "               [1.0, 0.0, 0.0, 1/10.0, 0.0, 1.0, 0.0])/1000\n",
      "tau_u = [1.0, 250.0, 78.9, 6.0, 2.3, 10.0, 6521.73]*1e4\n",
      "a = [0.1, 0.1, 0.1, 0.1, 0.1, 0.1, 0.1]\n",
      "b = [0.1, 0.1, 0.1, 0.1, 0.1, 0.1, 0.1]\n",
      "(gend_1,mend_1) = run_batch(tau_u,alpha_g,a,b)\n",
      "\n",
      "# calculate predicted conductance ratios for first parameter set\n",
      "# -- predicted mrna ratios are mx[i]/mx[j] for any i and j\n",
      "# -- predicted conductance ratios are gx[i]/gx[j] for any i and j\n",
      "# -- if beta_g were different across channels/compartments, then gx[i] = (alpha_g[i]/beta_g[i]) .* mx[i]\n",
      "mx1 = repmat(tau_u,2,1) .* [b./(a+b),a./(a+b)]\n",
      "gx1 = alpha_g[:] .* mx1 \n",
      "gx1 = gx1[[2,3,4,5,6,7,8,11,13]]  # ignore conductances with gmax = 0\n",
      "\n",
      "# Parameter set #2\n",
      "alpha_g = hcat([0.0, 1.0, 1.0, 1.0, 1.0, 1/10.0, 1.0],\n",
      "               [1.0, 0.0, 0.0, 1/5.0, 0.0, 1.0, 0.0])/1000\n",
      "tau_u = [1.0, 200.0, 100.0, 12.0, 5.3, 20.0, 3000.0]*1e4\n",
      "a = [0.20, 0.10, 0.11, 0.10, 0.13, 0.18, 0.08]\n",
      "b = [0.10, 0.12, 0.10, 0.17, 0.08, 0.09, 0.11]\n",
      "(gend_2,mend_2) = run_batch(tau_u,alpha_g,a,b);\n",
      "\n",
      "# predicted conductance ratios (see comments above)\n",
      "mx2 = repmat(tau_u,2,1) .* [b./(a+b),a./(a+b)]\n",
      "gx2 = alpha_g[:] .* mx2\n",
      "gx2 = gx2[[2,3,4,5,6,7,8,11,13]]  # ignore conductances with gmax = 0"
     ],
     "language": "python",
     "metadata": {},
     "outputs": []
    },
    {
     "cell_type": "code",
     "collapsed": false,
     "input": [
      "# Print min/max steady-state gbars for each param set\n",
      "# Note: these figures will be slightly different for each (randomized) run\n",
      "println(round(minimum(gend_2,1),2))\n",
      "println(round(maximum(gend_2,1),2))"
     ],
     "language": "python",
     "metadata": {},
     "outputs": []
    },
    {
     "cell_type": "code",
     "collapsed": false,
     "input": [
      "println(round(minimum(gend_1,1),2))\n",
      "println(round(maximum(gend_1,1),2))"
     ],
     "language": "python",
     "metadata": {},
     "outputs": []
    },
    {
     "cell_type": "code",
     "collapsed": false,
     "input": [
      "figure()\n",
      "pairs([gend_1,gend_2],[gx1 gx2],ms=4)\n",
      "savefig(\"pairs_mass_action.svg\")"
     ],
     "language": "python",
     "metadata": {},
     "outputs": []
    },
    {
     "cell_type": "code",
     "collapsed": false,
     "input": [
      "[gx1 gx2]"
     ],
     "language": "python",
     "metadata": {},
     "outputs": []
    },
    {
     "cell_type": "code",
     "collapsed": false,
     "input": [
      "[mx1 mx2]"
     ],
     "language": "python",
     "metadata": {},
     "outputs": []
    }
   ],
   "metadata": {}
  }
 ]
}